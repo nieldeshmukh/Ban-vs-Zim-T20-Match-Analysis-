{
 "cells": [
  {
   "cell_type": "markdown",
   "metadata": {},
   "source": [
    "## Cricheroes Assignment\n",
    "### Code language: Python\n",
    "### Made by: Mr. Nilesh S. Deshmukh "
   ]
  },
  {
   "cell_type": "code",
   "execution_count": 1,
   "metadata": {},
   "outputs": [],
   "source": [
    "\n",
    "# importing necessary packages\n",
    "import numpy as np\n",
    "import pandas as pd\n",
    "pd.set_option('max_columns', None)\n",
    "\n",
    "# didn't want warnings to be displayed\n",
    "import warnings\n",
    "warnings.filterwarnings(\"ignore\")\n"
   ]
  },
  {
   "cell_type": "code",
   "execution_count": 2,
   "metadata": {},
   "outputs": [],
   "source": [
    "\n",
    "# Imported zim vs ban.csv\n",
    "df = pd.read_csv(r'zim vs ban.csv')"
   ]
  },
  {
   "cell_type": "code",
   "execution_count": 3,
   "metadata": {},
   "outputs": [
    {
     "data": {
      "text/html": [
       "<div><div id=0aa37aa0-3f2f-4dc4-be98-e94e1d19049d style=\"display:none; background-color:#9D6CFF; color:white; width:200px; height:30px; padding-left:5px; border-radius:4px; flex-direction:row; justify-content:space-around; align-items:center;\" onmouseover=\"this.style.backgroundColor='#BA9BF8'\" onmouseout=\"this.style.backgroundColor='#9D6CFF'\" onclick=\"window.commands?.execute('create-mitosheet-from-dataframe-output');\">See Full Dataframe in Mito</div> <script> if (window.commands.hasCommand('create-mitosheet-from-dataframe-output')) document.getElementById('0aa37aa0-3f2f-4dc4-be98-e94e1d19049d').style.display = 'flex' </script> <table border=\"1\" class=\"dataframe\">\n",
       "  <thead>\n",
       "    <tr style=\"text-align: right;\">\n",
       "      <th></th>\n",
       "      <th>match_id</th>\n",
       "      <th>season</th>\n",
       "      <th>start_date</th>\n",
       "      <th>venue</th>\n",
       "      <th>innings</th>\n",
       "      <th>ball</th>\n",
       "      <th>batting_team</th>\n",
       "      <th>bowling_team</th>\n",
       "      <th>striker</th>\n",
       "      <th>non_striker</th>\n",
       "      <th>bowler</th>\n",
       "      <th>runs_off_bat</th>\n",
       "      <th>extras</th>\n",
       "      <th>wides</th>\n",
       "      <th>noballs</th>\n",
       "      <th>byes</th>\n",
       "      <th>legbyes</th>\n",
       "      <th>penalty</th>\n",
       "      <th>wicket_type</th>\n",
       "      <th>player_dismissed</th>\n",
       "      <th>other_wicket_type</th>\n",
       "      <th>other_player_dismissed</th>\n",
       "    </tr>\n",
       "  </thead>\n",
       "  <tbody>\n",
       "    <tr>\n",
       "      <th>0</th>\n",
       "      <td>1267680</td>\n",
       "      <td>2021</td>\n",
       "      <td>22-07-2021</td>\n",
       "      <td>Harare Sports Club</td>\n",
       "      <td>1</td>\n",
       "      <td>0.1</td>\n",
       "      <td>Zimbabwe</td>\n",
       "      <td>Bangladesh</td>\n",
       "      <td>W Madhevere</td>\n",
       "      <td>T Marumani</td>\n",
       "      <td>Mohammad Saifuddin</td>\n",
       "      <td>0</td>\n",
       "      <td>0</td>\n",
       "      <td>NaN</td>\n",
       "      <td>NaN</td>\n",
       "      <td>NaN</td>\n",
       "      <td>NaN</td>\n",
       "      <td>NaN</td>\n",
       "      <td>NaN</td>\n",
       "      <td>NaN</td>\n",
       "      <td>NaN</td>\n",
       "      <td>NaN</td>\n",
       "    </tr>\n",
       "    <tr>\n",
       "      <th>1</th>\n",
       "      <td>1267680</td>\n",
       "      <td>2021</td>\n",
       "      <td>22-07-2021</td>\n",
       "      <td>Harare Sports Club</td>\n",
       "      <td>1</td>\n",
       "      <td>0.2</td>\n",
       "      <td>Zimbabwe</td>\n",
       "      <td>Bangladesh</td>\n",
       "      <td>W Madhevere</td>\n",
       "      <td>T Marumani</td>\n",
       "      <td>Mohammad Saifuddin</td>\n",
       "      <td>1</td>\n",
       "      <td>0</td>\n",
       "      <td>NaN</td>\n",
       "      <td>NaN</td>\n",
       "      <td>NaN</td>\n",
       "      <td>NaN</td>\n",
       "      <td>NaN</td>\n",
       "      <td>NaN</td>\n",
       "      <td>NaN</td>\n",
       "      <td>NaN</td>\n",
       "      <td>NaN</td>\n",
       "    </tr>\n",
       "    <tr>\n",
       "      <th>2</th>\n",
       "      <td>1267680</td>\n",
       "      <td>2021</td>\n",
       "      <td>22-07-2021</td>\n",
       "      <td>Harare Sports Club</td>\n",
       "      <td>1</td>\n",
       "      <td>0.3</td>\n",
       "      <td>Zimbabwe</td>\n",
       "      <td>Bangladesh</td>\n",
       "      <td>T Marumani</td>\n",
       "      <td>W Madhevere</td>\n",
       "      <td>Mohammad Saifuddin</td>\n",
       "      <td>0</td>\n",
       "      <td>0</td>\n",
       "      <td>NaN</td>\n",
       "      <td>NaN</td>\n",
       "      <td>NaN</td>\n",
       "      <td>NaN</td>\n",
       "      <td>NaN</td>\n",
       "      <td>NaN</td>\n",
       "      <td>NaN</td>\n",
       "      <td>NaN</td>\n",
       "      <td>NaN</td>\n",
       "    </tr>\n",
       "    <tr>\n",
       "      <th>3</th>\n",
       "      <td>1267680</td>\n",
       "      <td>2021</td>\n",
       "      <td>22-07-2021</td>\n",
       "      <td>Harare Sports Club</td>\n",
       "      <td>1</td>\n",
       "      <td>0.4</td>\n",
       "      <td>Zimbabwe</td>\n",
       "      <td>Bangladesh</td>\n",
       "      <td>T Marumani</td>\n",
       "      <td>W Madhevere</td>\n",
       "      <td>Mohammad Saifuddin</td>\n",
       "      <td>0</td>\n",
       "      <td>0</td>\n",
       "      <td>NaN</td>\n",
       "      <td>NaN</td>\n",
       "      <td>NaN</td>\n",
       "      <td>NaN</td>\n",
       "      <td>NaN</td>\n",
       "      <td>NaN</td>\n",
       "      <td>NaN</td>\n",
       "      <td>NaN</td>\n",
       "      <td>NaN</td>\n",
       "    </tr>\n",
       "    <tr>\n",
       "      <th>4</th>\n",
       "      <td>1267680</td>\n",
       "      <td>2021</td>\n",
       "      <td>22-07-2021</td>\n",
       "      <td>Harare Sports Club</td>\n",
       "      <td>1</td>\n",
       "      <td>0.5</td>\n",
       "      <td>Zimbabwe</td>\n",
       "      <td>Bangladesh</td>\n",
       "      <td>T Marumani</td>\n",
       "      <td>W Madhevere</td>\n",
       "      <td>Mohammad Saifuddin</td>\n",
       "      <td>1</td>\n",
       "      <td>0</td>\n",
       "      <td>NaN</td>\n",
       "      <td>NaN</td>\n",
       "      <td>NaN</td>\n",
       "      <td>NaN</td>\n",
       "      <td>NaN</td>\n",
       "      <td>NaN</td>\n",
       "      <td>NaN</td>\n",
       "      <td>NaN</td>\n",
       "      <td>NaN</td>\n",
       "    </tr>\n",
       "    <tr>\n",
       "      <th>5</th>\n",
       "      <td>1267680</td>\n",
       "      <td>2021</td>\n",
       "      <td>22-07-2021</td>\n",
       "      <td>Harare Sports Club</td>\n",
       "      <td>1</td>\n",
       "      <td>0.6</td>\n",
       "      <td>Zimbabwe</td>\n",
       "      <td>Bangladesh</td>\n",
       "      <td>W Madhevere</td>\n",
       "      <td>T Marumani</td>\n",
       "      <td>Mohammad Saifuddin</td>\n",
       "      <td>0</td>\n",
       "      <td>1</td>\n",
       "      <td>NaN</td>\n",
       "      <td>NaN</td>\n",
       "      <td>NaN</td>\n",
       "      <td>1.0</td>\n",
       "      <td>NaN</td>\n",
       "      <td>NaN</td>\n",
       "      <td>NaN</td>\n",
       "      <td>NaN</td>\n",
       "      <td>NaN</td>\n",
       "    </tr>\n",
       "    <tr>\n",
       "      <th>6</th>\n",
       "      <td>1267680</td>\n",
       "      <td>2021</td>\n",
       "      <td>22-07-2021</td>\n",
       "      <td>Harare Sports Club</td>\n",
       "      <td>1</td>\n",
       "      <td>1.1</td>\n",
       "      <td>Zimbabwe</td>\n",
       "      <td>Bangladesh</td>\n",
       "      <td>W Madhevere</td>\n",
       "      <td>T Marumani</td>\n",
       "      <td>Mustafizur Rahman</td>\n",
       "      <td>1</td>\n",
       "      <td>0</td>\n",
       "      <td>NaN</td>\n",
       "      <td>NaN</td>\n",
       "      <td>NaN</td>\n",
       "      <td>NaN</td>\n",
       "      <td>NaN</td>\n",
       "      <td>NaN</td>\n",
       "      <td>NaN</td>\n",
       "      <td>NaN</td>\n",
       "      <td>NaN</td>\n",
       "    </tr>\n",
       "    <tr>\n",
       "      <th>7</th>\n",
       "      <td>1267680</td>\n",
       "      <td>2021</td>\n",
       "      <td>22-07-2021</td>\n",
       "      <td>Harare Sports Club</td>\n",
       "      <td>1</td>\n",
       "      <td>1.2</td>\n",
       "      <td>Zimbabwe</td>\n",
       "      <td>Bangladesh</td>\n",
       "      <td>T Marumani</td>\n",
       "      <td>W Madhevere</td>\n",
       "      <td>Mustafizur Rahman</td>\n",
       "      <td>6</td>\n",
       "      <td>0</td>\n",
       "      <td>NaN</td>\n",
       "      <td>NaN</td>\n",
       "      <td>NaN</td>\n",
       "      <td>NaN</td>\n",
       "      <td>NaN</td>\n",
       "      <td>NaN</td>\n",
       "      <td>NaN</td>\n",
       "      <td>NaN</td>\n",
       "      <td>NaN</td>\n",
       "    </tr>\n",
       "    <tr>\n",
       "      <th>8</th>\n",
       "      <td>1267680</td>\n",
       "      <td>2021</td>\n",
       "      <td>22-07-2021</td>\n",
       "      <td>Harare Sports Club</td>\n",
       "      <td>1</td>\n",
       "      <td>1.3</td>\n",
       "      <td>Zimbabwe</td>\n",
       "      <td>Bangladesh</td>\n",
       "      <td>T Marumani</td>\n",
       "      <td>W Madhevere</td>\n",
       "      <td>Mustafizur Rahman</td>\n",
       "      <td>0</td>\n",
       "      <td>0</td>\n",
       "      <td>NaN</td>\n",
       "      <td>NaN</td>\n",
       "      <td>NaN</td>\n",
       "      <td>NaN</td>\n",
       "      <td>NaN</td>\n",
       "      <td>NaN</td>\n",
       "      <td>NaN</td>\n",
       "      <td>NaN</td>\n",
       "      <td>NaN</td>\n",
       "    </tr>\n",
       "    <tr>\n",
       "      <th>9</th>\n",
       "      <td>1267680</td>\n",
       "      <td>2021</td>\n",
       "      <td>22-07-2021</td>\n",
       "      <td>Harare Sports Club</td>\n",
       "      <td>1</td>\n",
       "      <td>1.4</td>\n",
       "      <td>Zimbabwe</td>\n",
       "      <td>Bangladesh</td>\n",
       "      <td>T Marumani</td>\n",
       "      <td>W Madhevere</td>\n",
       "      <td>Mustafizur Rahman</td>\n",
       "      <td>0</td>\n",
       "      <td>0</td>\n",
       "      <td>NaN</td>\n",
       "      <td>NaN</td>\n",
       "      <td>NaN</td>\n",
       "      <td>NaN</td>\n",
       "      <td>NaN</td>\n",
       "      <td>NaN</td>\n",
       "      <td>NaN</td>\n",
       "      <td>NaN</td>\n",
       "      <td>NaN</td>\n",
       "    </tr>\n",
       "  </tbody>\n",
       "</table></div>"
      ],
      "text/plain": [
       "   match_id  season  start_date               venue  innings  ball  \\\n",
       "0   1267680    2021  22-07-2021  Harare Sports Club        1   0.1   \n",
       "1   1267680    2021  22-07-2021  Harare Sports Club        1   0.2   \n",
       "2   1267680    2021  22-07-2021  Harare Sports Club        1   0.3   \n",
       "3   1267680    2021  22-07-2021  Harare Sports Club        1   0.4   \n",
       "4   1267680    2021  22-07-2021  Harare Sports Club        1   0.5   \n",
       "5   1267680    2021  22-07-2021  Harare Sports Club        1   0.6   \n",
       "6   1267680    2021  22-07-2021  Harare Sports Club        1   1.1   \n",
       "7   1267680    2021  22-07-2021  Harare Sports Club        1   1.2   \n",
       "8   1267680    2021  22-07-2021  Harare Sports Club        1   1.3   \n",
       "9   1267680    2021  22-07-2021  Harare Sports Club        1   1.4   \n",
       "\n",
       "  batting_team bowling_team      striker  non_striker              bowler  \\\n",
       "0     Zimbabwe   Bangladesh  W Madhevere   T Marumani  Mohammad Saifuddin   \n",
       "1     Zimbabwe   Bangladesh  W Madhevere   T Marumani  Mohammad Saifuddin   \n",
       "2     Zimbabwe   Bangladesh   T Marumani  W Madhevere  Mohammad Saifuddin   \n",
       "3     Zimbabwe   Bangladesh   T Marumani  W Madhevere  Mohammad Saifuddin   \n",
       "4     Zimbabwe   Bangladesh   T Marumani  W Madhevere  Mohammad Saifuddin   \n",
       "5     Zimbabwe   Bangladesh  W Madhevere   T Marumani  Mohammad Saifuddin   \n",
       "6     Zimbabwe   Bangladesh  W Madhevere   T Marumani   Mustafizur Rahman   \n",
       "7     Zimbabwe   Bangladesh   T Marumani  W Madhevere   Mustafizur Rahman   \n",
       "8     Zimbabwe   Bangladesh   T Marumani  W Madhevere   Mustafizur Rahman   \n",
       "9     Zimbabwe   Bangladesh   T Marumani  W Madhevere   Mustafizur Rahman   \n",
       "\n",
       "   runs_off_bat  extras  wides  noballs  byes  legbyes  penalty wicket_type  \\\n",
       "0             0       0    NaN      NaN   NaN      NaN      NaN         NaN   \n",
       "1             1       0    NaN      NaN   NaN      NaN      NaN         NaN   \n",
       "2             0       0    NaN      NaN   NaN      NaN      NaN         NaN   \n",
       "3             0       0    NaN      NaN   NaN      NaN      NaN         NaN   \n",
       "4             1       0    NaN      NaN   NaN      NaN      NaN         NaN   \n",
       "5             0       1    NaN      NaN   NaN      1.0      NaN         NaN   \n",
       "6             1       0    NaN      NaN   NaN      NaN      NaN         NaN   \n",
       "7             6       0    NaN      NaN   NaN      NaN      NaN         NaN   \n",
       "8             0       0    NaN      NaN   NaN      NaN      NaN         NaN   \n",
       "9             0       0    NaN      NaN   NaN      NaN      NaN         NaN   \n",
       "\n",
       "  player_dismissed  other_wicket_type  other_player_dismissed  \n",
       "0              NaN                NaN                     NaN  \n",
       "1              NaN                NaN                     NaN  \n",
       "2              NaN                NaN                     NaN  \n",
       "3              NaN                NaN                     NaN  \n",
       "4              NaN                NaN                     NaN  \n",
       "5              NaN                NaN                     NaN  \n",
       "6              NaN                NaN                     NaN  \n",
       "7              NaN                NaN                     NaN  \n",
       "8              NaN                NaN                     NaN  \n",
       "9              NaN                NaN                     NaN  "
      ]
     },
     "execution_count": 3,
     "metadata": {},
     "output_type": "execute_result"
    }
   ],
   "source": [
    "\n",
    "df.head(10)"
   ]
  },
  {
   "cell_type": "code",
   "execution_count": 4,
   "metadata": {},
   "outputs": [],
   "source": [
    "\n",
    "# Deleted unnecessary columns\n",
    "df.drop(['match_id', 'season', 'start_date', 'venue', 'non_striker', 'byes', 'penalty', 'player_dismissed', \n",
    "                 'other_wicket_type', 'other_player_dismissed'], axis=1, inplace=True)\n"
   ]
  },
  {
   "cell_type": "code",
   "execution_count": 5,
   "metadata": {},
   "outputs": [
    {
     "data": {
      "text/plain": [
       "(236, 12)"
      ]
     },
     "execution_count": 5,
     "metadata": {},
     "output_type": "execute_result"
    }
   ],
   "source": [
    "# checking shape after dropping columns\n",
    "df.shape"
   ]
  },
  {
   "cell_type": "code",
   "execution_count": 6,
   "metadata": {},
   "outputs": [
    {
     "data": {
      "text/plain": [
       "innings           0\n",
       "ball              0\n",
       "batting_team      0\n",
       "bowling_team      0\n",
       "striker           0\n",
       "bowler            0\n",
       "runs_off_bat      0\n",
       "extras            0\n",
       "wides           230\n",
       "noballs         233\n",
       "legbyes         233\n",
       "wicket_type     224\n",
       "dtype: int64"
      ]
     },
     "execution_count": 6,
     "metadata": {},
     "output_type": "execute_result"
    }
   ],
   "source": [
    "# checking null value count\n",
    "df.isnull().sum()"
   ]
  },
  {
   "cell_type": "code",
   "execution_count": 7,
   "metadata": {},
   "outputs": [
    {
     "name": "stdout",
     "output_type": "stream",
     "text": [
      "<class 'pandas.core.frame.DataFrame'>\n",
      "RangeIndex: 236 entries, 0 to 235\n",
      "Data columns (total 12 columns):\n",
      " #   Column        Non-Null Count  Dtype  \n",
      "---  ------        --------------  -----  \n",
      " 0   innings       236 non-null    int64  \n",
      " 1   ball          236 non-null    float64\n",
      " 2   batting_team  236 non-null    object \n",
      " 3   bowling_team  236 non-null    object \n",
      " 4   striker       236 non-null    object \n",
      " 5   bowler        236 non-null    object \n",
      " 6   runs_off_bat  236 non-null    int64  \n",
      " 7   extras        236 non-null    int64  \n",
      " 8   wides         6 non-null      float64\n",
      " 9   noballs       3 non-null      float64\n",
      " 10  legbyes       3 non-null      float64\n",
      " 11  wicket_type   12 non-null     object \n",
      "dtypes: float64(4), int64(3), object(5)\n",
      "memory usage: 22.2+ KB\n"
     ]
    }
   ],
   "source": [
    "# checking datatype\n",
    "df.info()"
   ]
  },
  {
   "cell_type": "code",
   "execution_count": 8,
   "metadata": {},
   "outputs": [],
   "source": [
    "\n",
    "# filling 'NaN' values with 0's and blank\n",
    "df[['wides', 'noballs', 'legbyes']] = df[['wides', 'noballs', 'legbyes']].fillna(0)\n",
    "df[['wicket_type']] = df[['wicket_type']].fillna('')"
   ]
  },
  {
   "cell_type": "code",
   "execution_count": 9,
   "metadata": {},
   "outputs": [],
   "source": [
    "\n",
    "# changing datatype\n",
    "df = df.astype({\"wides\": int, \"noballs\": int, \"legbyes\": int})"
   ]
  },
  {
   "cell_type": "code",
   "execution_count": 10,
   "metadata": {},
   "outputs": [
    {
     "name": "stdout",
     "output_type": "stream",
     "text": [
      "<class 'pandas.core.frame.DataFrame'>\n",
      "RangeIndex: 236 entries, 0 to 235\n",
      "Data columns (total 12 columns):\n",
      " #   Column        Non-Null Count  Dtype  \n",
      "---  ------        --------------  -----  \n",
      " 0   innings       236 non-null    int64  \n",
      " 1   ball          236 non-null    float64\n",
      " 2   batting_team  236 non-null    object \n",
      " 3   bowling_team  236 non-null    object \n",
      " 4   striker       236 non-null    object \n",
      " 5   bowler        236 non-null    object \n",
      " 6   runs_off_bat  236 non-null    int64  \n",
      " 7   extras        236 non-null    int64  \n",
      " 8   wides         236 non-null    int32  \n",
      " 9   noballs       236 non-null    int32  \n",
      " 10  legbyes       236 non-null    int32  \n",
      " 11  wicket_type   236 non-null    object \n",
      "dtypes: float64(1), int32(3), int64(3), object(5)\n",
      "memory usage: 19.5+ KB\n"
     ]
    }
   ],
   "source": [
    "# check for datatype change\n",
    "df.info()"
   ]
  },
  {
   "cell_type": "markdown",
   "metadata": {},
   "source": [
    "## Variables Creation for Bowling Stats"
   ]
  },
  {
   "cell_type": "markdown",
   "metadata": {},
   "source": [
    "### 1. Runs given by bowler"
   ]
  },
  {
   "cell_type": "code",
   "execution_count": 11,
   "metadata": {},
   "outputs": [],
   "source": [
    "# renaming the default indices\n",
    "df.rename(columns={\"batting_team\":\"Batting team\",\"bowling_team\":\"Bowling team\",\"striker\":\"Batter\",\"bowler\":\"Bowler\"},\n",
    "                    inplace=True)"
   ]
  },
  {
   "cell_type": "code",
   "execution_count": 12,
   "metadata": {},
   "outputs": [
    {
     "name": "stderr",
     "output_type": "stream",
     "text": [
      "NumExpr defaulting to 4 threads.\n"
     ]
    },
    {
     "data": {
      "text/plain": [
       "Bowling team  Bowler            \n",
       "Bangladesh    Mohammad Saifuddin    23\n",
       "              Mustafizur Rahman     31\n",
       "              Shakib Al Hasan       28\n",
       "              Shoriful Islam        17\n",
       "              Mahedi Hasan          18\n",
       "              Mahmudullah           14\n",
       "              Soumya Sarkar         18\n",
       "Zimbabwe      B Muzarabani          19\n",
       "              W Madhevere           24\n",
       "              R Ngarava             46\n",
       "              LM Jongwe             28\n",
       "              Sikandar Raza         16\n",
       "              WP Masakadza          20\n",
       "Name: runs_conceded, dtype: int64"
      ]
     },
     "execution_count": 12,
     "metadata": {},
     "output_type": "execute_result"
    }
   ],
   "source": [
    "# Runs given by bowler\n",
    "df['runs_conceded'] = df.runs_off_bat + df.wides + df.noballs\n",
    "\n",
    "runs_given = df.groupby(['Bowling team', 'Bowler'],sort = False)['runs_conceded'].sum()\n",
    "runs_given"
   ]
  },
  {
   "cell_type": "markdown",
   "metadata": {},
   "source": [
    "### 2. Total balls bowled"
   ]
  },
  {
   "cell_type": "code",
   "execution_count": 13,
   "metadata": {
    "scrolled": true
   },
   "outputs": [
    {
     "data": {
      "text/plain": [
       "Bowling team  Bowler            \n",
       "Bangladesh    Mohammad Saifuddin    24\n",
       "              Mustafizur Rahman     24\n",
       "              Shakib Al Hasan       24\n",
       "              Shoriful Islam        18\n",
       "              Mahedi Hasan           6\n",
       "              Mahmudullah            6\n",
       "              Soumya Sarkar         12\n",
       "Zimbabwe      B Muzarabani          23\n",
       "              W Madhevere           18\n",
       "              R Ngarava             24\n",
       "              LM Jongwe             18\n",
       "              Sikandar Raza         12\n",
       "              WP Masakadza          18\n",
       "Name: Total_balls, dtype: int64"
      ]
     },
     "execution_count": 13,
     "metadata": {},
     "output_type": "execute_result"
    }
   ],
   "source": [
    "# total_balls\n",
    "total_balls = df[(df.wides == 0) & (df.noballs == 0)].groupby(['Bowling team', 'Bowler'],sort = False)['ball'].size()\n",
    "Total_balls = total_balls.rename('Total_balls')\n",
    "Total_balls\n"
   ]
  },
  {
   "cell_type": "markdown",
   "metadata": {},
   "source": [
    "### 3. Overs bowled"
   ]
  },
  {
   "cell_type": "code",
   "execution_count": 14,
   "metadata": {},
   "outputs": [
    {
     "data": {
      "text/plain": [
       "Bowling team  Bowler            \n",
       "Bangladesh    Mohammad Saifuddin    4.0\n",
       "              Mustafizur Rahman     4.0\n",
       "              Shakib Al Hasan       4.0\n",
       "              Shoriful Islam        3.0\n",
       "              Mahedi Hasan          1.0\n",
       "              Mahmudullah           1.0\n",
       "              Soumya Sarkar         2.0\n",
       "Zimbabwe      B Muzarabani          3.5\n",
       "              W Madhevere           3.0\n",
       "              R Ngarava             4.0\n",
       "              LM Jongwe             3.0\n",
       "              Sikandar Raza         2.0\n",
       "              WP Masakadza          3.0\n",
       "Name: ball, dtype: float64"
      ]
     },
     "execution_count": 14,
     "metadata": {},
     "output_type": "execute_result"
    }
   ],
   "source": [
    "# craeting overs from total balls column\n",
    "overs = total_balls.apply(lambda x: x//6 + x%6/10)\n",
    "overs"
   ]
  },
  {
   "cell_type": "markdown",
   "metadata": {},
   "source": [
    "### 4. Dot balls"
   ]
  },
  {
   "cell_type": "code",
   "execution_count": 15,
   "metadata": {},
   "outputs": [
    {
     "data": {
      "text/plain": [
       "Bowling team  Bowler            \n",
       "Bangladesh    Mohammad Saifuddin     9\n",
       "              Mustafizur Rahman      9\n",
       "              Shakib Al Hasan        6\n",
       "              Shoriful Islam        11\n",
       "              Mahedi Hasan           1\n",
       "              Mahmudullah            0\n",
       "              Soumya Sarkar          2\n",
       "Zimbabwe      B Muzarabani          10\n",
       "              W Madhevere            6\n",
       "              R Ngarava              6\n",
       "              LM Jongwe              5\n",
       "              Sikandar Raza          2\n",
       "              WP Masakadza           4\n",
       "Name: dots, dtype: int64"
      ]
     },
     "execution_count": 15,
     "metadata": {},
     "output_type": "execute_result"
    }
   ],
   "source": [
    "# creating dot balls column\n",
    "df['dots'] = df.apply(lambda x: 1 if (x.runs_off_bat + x.extras) == 0 else 0, axis=1)\n",
    "\n",
    "dot_balls = df.groupby(['Bowling team', 'Bowler'],sort = False)['dots'].sum()\n",
    "dot_balls"
   ]
  },
  {
   "cell_type": "markdown",
   "metadata": {},
   "source": [
    "### 5. Economy Rate"
   ]
  },
  {
   "cell_type": "code",
   "execution_count": 16,
   "metadata": {},
   "outputs": [
    {
     "data": {
      "text/plain": [
       "Bowling team  Bowler            \n",
       "Bangladesh    Mohammad Saifuddin     5.75\n",
       "              Mustafizur Rahman      7.75\n",
       "              Shakib Al Hasan        7.00\n",
       "              Shoriful Islam         5.67\n",
       "              Mahedi Hasan          18.00\n",
       "              Mahmudullah           14.00\n",
       "              Soumya Sarkar          9.00\n",
       "Zimbabwe      B Muzarabani           4.96\n",
       "              W Madhevere            8.00\n",
       "              R Ngarava             11.50\n",
       "              LM Jongwe              9.33\n",
       "              Sikandar Raza          8.00\n",
       "              WP Masakadza           6.67\n",
       "Name: ER, dtype: float64"
      ]
     },
     "execution_count": 16,
     "metadata": {},
     "output_type": "execute_result"
    }
   ],
   "source": [
    "ER = round(runs_given/total_balls * 6, 2).rename('ER')\n",
    "ER"
   ]
  },
  {
   "cell_type": "markdown",
   "metadata": {},
   "source": [
    "### 6. Wickets taken by bowler "
   ]
  },
  {
   "cell_type": "code",
   "execution_count": 17,
   "metadata": {},
   "outputs": [
    {
     "data": {
      "text/plain": [
       "Bowling team  Bowler            \n",
       "Bangladesh    Mohammad Saifuddin    2\n",
       "              Mustafizur Rahman     3\n",
       "              Shakib Al Hasan       1\n",
       "              Shoriful Islam        2\n",
       "              Mahedi Hasan          0\n",
       "              Mahmudullah           0\n",
       "              Soumya Sarkar         1\n",
       "Zimbabwe      B Muzarabani          0\n",
       "              W Madhevere           0\n",
       "              R Ngarava             0\n",
       "              LM Jongwe             0\n",
       "              Sikandar Raza         0\n",
       "              WP Masakadza          0\n",
       "Name: wkt_encode, dtype: int64"
      ]
     },
     "execution_count": 17,
     "metadata": {},
     "output_type": "execute_result"
    }
   ],
   "source": [
    "# Wickets count by bowler\n",
    "df['wkt_encode'] = df['wicket_type'].apply(lambda x: 1 if x != 'run out' and x != '' else 0)\n",
    "\n",
    "wickets = df.groupby(['Bowling team', 'Bowler'],sort = False)['wkt_encode'].sum()\n",
    "wickets"
   ]
  },
  {
   "cell_type": "markdown",
   "metadata": {},
   "source": [
    "### 7. Fours conceded by bowler"
   ]
  },
  {
   "cell_type": "code",
   "execution_count": 18,
   "metadata": {},
   "outputs": [
    {
     "data": {
      "text/plain": [
       "Bowling team  Bowler            \n",
       "Bangladesh    Mohammad Saifuddin    2\n",
       "              Mustafizur Rahman     3\n",
       "              Shakib Al Hasan       2\n",
       "              Shoriful Islam        1\n",
       "              Mahedi Hasan          1\n",
       "              Mahmudullah           2\n",
       "              Soumya Sarkar         1\n",
       "Zimbabwe      B Muzarabani          0\n",
       "              W Madhevere           2\n",
       "              R Ngarava             7\n",
       "              LM Jongwe             2\n",
       "              Sikandar Raza         1\n",
       "              WP Masakadza          0\n",
       "Name: 4s_conceded, dtype: int64"
      ]
     },
     "execution_count": 18,
     "metadata": {},
     "output_type": "execute_result"
    }
   ],
   "source": [
    "# Fours conceded\n",
    "\n",
    "df['4s_conceded'] = df['runs_off_bat'].apply(lambda x: 1 if x == 4 else 0)\n",
    "fours = df.groupby(['Bowling team', 'Bowler'],sort = False)['4s_conceded'].sum()\n",
    "fours"
   ]
  },
  {
   "cell_type": "markdown",
   "metadata": {},
   "source": [
    "### 8. Sixes conceded by bowler"
   ]
  },
  {
   "cell_type": "code",
   "execution_count": 19,
   "metadata": {},
   "outputs": [
    {
     "data": {
      "text/plain": [
       "Bowling team  Bowler            \n",
       "Bangladesh    Mohammad Saifuddin    0\n",
       "              Mustafizur Rahman     1\n",
       "              Shakib Al Hasan       0\n",
       "              Shoriful Islam        1\n",
       "              Mahedi Hasan          2\n",
       "              Mahmudullah           0\n",
       "              Soumya Sarkar         0\n",
       "Zimbabwe      B Muzarabani          1\n",
       "              W Madhevere           0\n",
       "              R Ngarava             0\n",
       "              LM Jongwe             1\n",
       "              Sikandar Raza         0\n",
       "              WP Masakadza          1\n",
       "Name: 6s_conceded, dtype: int64"
      ]
     },
     "execution_count": 19,
     "metadata": {},
     "output_type": "execute_result"
    }
   ],
   "source": [
    "# Sixes conceded\n",
    "df['6s_conceded'] = df['runs_off_bat'].apply(lambda x: 1 if x == 6 else 0)\n",
    "sixes = df.groupby(['Bowling team', 'Bowler'],sort = False)['6s_conceded'].sum()\n",
    "sixes"
   ]
  },
  {
   "cell_type": "markdown",
   "metadata": {},
   "source": [
    "### 9. Extra runs given by bowler"
   ]
  },
  {
   "cell_type": "code",
   "execution_count": 20,
   "metadata": {},
   "outputs": [
    {
     "data": {
      "text/plain": [
       "Bowling team  Bowler            \n",
       "Bangladesh    Mohammad Saifuddin    1\n",
       "              Mustafizur Rahman     1\n",
       "              Shakib Al Hasan       2\n",
       "              Shoriful Islam        0\n",
       "              Mahedi Hasan          0\n",
       "              Mahmudullah           0\n",
       "              Soumya Sarkar         0\n",
       "Zimbabwe      B Muzarabani          0\n",
       "              W Madhevere           3\n",
       "              R Ngarava             4\n",
       "              LM Jongwe             1\n",
       "              Sikandar Raza         1\n",
       "              WP Masakadza          0\n",
       "Name: extras, dtype: int64"
      ]
     },
     "execution_count": 20,
     "metadata": {},
     "output_type": "execute_result"
    }
   ],
   "source": [
    "# Extras\n",
    "extras = df.groupby(['Bowling team', 'Bowler'],sort = False)['extras'].sum()\n",
    "extras"
   ]
  },
  {
   "cell_type": "markdown",
   "metadata": {},
   "source": []
  },
  {
   "cell_type": "code",
   "execution_count": 21,
   "metadata": {},
   "outputs": [
    {
     "data": {
      "text/html": [
       "<div><div id=a3f78aa3-da6d-4b41-9271-0adb58ce6692 style=\"display:none; background-color:#9D6CFF; color:white; width:200px; height:30px; padding-left:5px; border-radius:4px; flex-direction:row; justify-content:space-around; align-items:center;\" onmouseover=\"this.style.backgroundColor='#BA9BF8'\" onmouseout=\"this.style.backgroundColor='#9D6CFF'\" onclick=\"window.commands?.execute('create-mitosheet-from-dataframe-output');\">See Full Dataframe in Mito</div> <script> if (window.commands.hasCommand('create-mitosheet-from-dataframe-output')) document.getElementById('a3f78aa3-da6d-4b41-9271-0adb58ce6692').style.display = 'flex' </script> <table border=\"1\" class=\"dataframe\">\n",
       "  <thead>\n",
       "    <tr style=\"text-align: right;\">\n",
       "      <th></th>\n",
       "      <th></th>\n",
       "      <th>ball</th>\n",
       "      <th>runs_conceded</th>\n",
       "      <th>wkt_encode</th>\n",
       "      <th>ER</th>\n",
       "      <th>dots</th>\n",
       "      <th>Total_balls</th>\n",
       "      <th>4s_conceded</th>\n",
       "      <th>6s_conceded</th>\n",
       "      <th>extras</th>\n",
       "    </tr>\n",
       "    <tr>\n",
       "      <th>Bowling team</th>\n",
       "      <th>Bowler</th>\n",
       "      <th></th>\n",
       "      <th></th>\n",
       "      <th></th>\n",
       "      <th></th>\n",
       "      <th></th>\n",
       "      <th></th>\n",
       "      <th></th>\n",
       "      <th></th>\n",
       "      <th></th>\n",
       "    </tr>\n",
       "  </thead>\n",
       "  <tbody>\n",
       "    <tr>\n",
       "      <th rowspan=\"5\" valign=\"top\">Bangladesh</th>\n",
       "      <th>Mohammad Saifuddin</th>\n",
       "      <td>4.0</td>\n",
       "      <td>23</td>\n",
       "      <td>2</td>\n",
       "      <td>5.75</td>\n",
       "      <td>9</td>\n",
       "      <td>24</td>\n",
       "      <td>2</td>\n",
       "      <td>0</td>\n",
       "      <td>1</td>\n",
       "    </tr>\n",
       "    <tr>\n",
       "      <th>Mustafizur Rahman</th>\n",
       "      <td>4.0</td>\n",
       "      <td>31</td>\n",
       "      <td>3</td>\n",
       "      <td>7.75</td>\n",
       "      <td>9</td>\n",
       "      <td>24</td>\n",
       "      <td>3</td>\n",
       "      <td>1</td>\n",
       "      <td>1</td>\n",
       "    </tr>\n",
       "    <tr>\n",
       "      <th>Shakib Al Hasan</th>\n",
       "      <td>4.0</td>\n",
       "      <td>28</td>\n",
       "      <td>1</td>\n",
       "      <td>7.00</td>\n",
       "      <td>6</td>\n",
       "      <td>24</td>\n",
       "      <td>2</td>\n",
       "      <td>0</td>\n",
       "      <td>2</td>\n",
       "    </tr>\n",
       "    <tr>\n",
       "      <th>Shoriful Islam</th>\n",
       "      <td>3.0</td>\n",
       "      <td>17</td>\n",
       "      <td>2</td>\n",
       "      <td>5.67</td>\n",
       "      <td>11</td>\n",
       "      <td>18</td>\n",
       "      <td>1</td>\n",
       "      <td>1</td>\n",
       "      <td>0</td>\n",
       "    </tr>\n",
       "    <tr>\n",
       "      <th>Mahedi Hasan</th>\n",
       "      <td>1.0</td>\n",
       "      <td>18</td>\n",
       "      <td>0</td>\n",
       "      <td>18.00</td>\n",
       "      <td>1</td>\n",
       "      <td>6</td>\n",
       "      <td>1</td>\n",
       "      <td>2</td>\n",
       "      <td>0</td>\n",
       "    </tr>\n",
       "    <tr>\n",
       "      <th>...</th>\n",
       "      <th>...</th>\n",
       "      <td>...</td>\n",
       "      <td>...</td>\n",
       "      <td>...</td>\n",
       "      <td>...</td>\n",
       "      <td>...</td>\n",
       "      <td>...</td>\n",
       "      <td>...</td>\n",
       "      <td>...</td>\n",
       "      <td>...</td>\n",
       "    </tr>\n",
       "    <tr>\n",
       "      <th rowspan=\"5\" valign=\"top\">Zimbabwe</th>\n",
       "      <th>W Madhevere</th>\n",
       "      <td>3.0</td>\n",
       "      <td>24</td>\n",
       "      <td>0</td>\n",
       "      <td>8.00</td>\n",
       "      <td>6</td>\n",
       "      <td>18</td>\n",
       "      <td>2</td>\n",
       "      <td>0</td>\n",
       "      <td>3</td>\n",
       "    </tr>\n",
       "    <tr>\n",
       "      <th>R Ngarava</th>\n",
       "      <td>4.0</td>\n",
       "      <td>46</td>\n",
       "      <td>0</td>\n",
       "      <td>11.50</td>\n",
       "      <td>6</td>\n",
       "      <td>24</td>\n",
       "      <td>7</td>\n",
       "      <td>0</td>\n",
       "      <td>4</td>\n",
       "    </tr>\n",
       "    <tr>\n",
       "      <th>LM Jongwe</th>\n",
       "      <td>3.0</td>\n",
       "      <td>28</td>\n",
       "      <td>0</td>\n",
       "      <td>9.33</td>\n",
       "      <td>5</td>\n",
       "      <td>18</td>\n",
       "      <td>2</td>\n",
       "      <td>1</td>\n",
       "      <td>1</td>\n",
       "    </tr>\n",
       "    <tr>\n",
       "      <th>Sikandar Raza</th>\n",
       "      <td>2.0</td>\n",
       "      <td>16</td>\n",
       "      <td>0</td>\n",
       "      <td>8.00</td>\n",
       "      <td>2</td>\n",
       "      <td>12</td>\n",
       "      <td>1</td>\n",
       "      <td>0</td>\n",
       "      <td>1</td>\n",
       "    </tr>\n",
       "    <tr>\n",
       "      <th>WP Masakadza</th>\n",
       "      <td>3.0</td>\n",
       "      <td>20</td>\n",
       "      <td>0</td>\n",
       "      <td>6.67</td>\n",
       "      <td>4</td>\n",
       "      <td>18</td>\n",
       "      <td>0</td>\n",
       "      <td>1</td>\n",
       "      <td>0</td>\n",
       "    </tr>\n",
       "  </tbody>\n",
       "</table></div>"
      ],
      "text/plain": [
       "                                 ball  runs_conceded  wkt_encode     ER  dots  \\\n",
       "Bowling team Bowler                                                             \n",
       "Bangladesh   Mohammad Saifuddin   4.0             23           2   5.75     9   \n",
       "             Mustafizur Rahman    4.0             31           3   7.75     9   \n",
       "             Shakib Al Hasan      4.0             28           1   7.00     6   \n",
       "             Shoriful Islam       3.0             17           2   5.67    11   \n",
       "             Mahedi Hasan         1.0             18           0  18.00     1   \n",
       "             Mahmudullah          1.0             14           0  14.00     0   \n",
       "             Soumya Sarkar        2.0             18           1   9.00     2   \n",
       "Zimbabwe     B Muzarabani         3.5             19           0   4.96    10   \n",
       "             W Madhevere          3.0             24           0   8.00     6   \n",
       "             R Ngarava            4.0             46           0  11.50     6   \n",
       "             LM Jongwe            3.0             28           0   9.33     5   \n",
       "             Sikandar Raza        2.0             16           0   8.00     2   \n",
       "             WP Masakadza         3.0             20           0   6.67     4   \n",
       "\n",
       "                                 Total_balls  4s_conceded  6s_conceded  extras  \n",
       "Bowling team Bowler                                                             \n",
       "Bangladesh   Mohammad Saifuddin           24            2            0       1  \n",
       "             Mustafizur Rahman            24            3            1       1  \n",
       "             Shakib Al Hasan              24            2            0       2  \n",
       "             Shoriful Islam               18            1            1       0  \n",
       "             Mahedi Hasan                  6            1            2       0  \n",
       "             Mahmudullah                   6            2            0       0  \n",
       "             Soumya Sarkar                12            1            0       0  \n",
       "Zimbabwe     B Muzarabani                 23            0            1       0  \n",
       "             W Madhevere                  18            2            0       3  \n",
       "             R Ngarava                    24            7            0       4  \n",
       "             LM Jongwe                    18            2            1       1  \n",
       "             Sikandar Raza                12            1            0       1  \n",
       "             WP Masakadza                 18            0            1       0  "
      ]
     },
     "execution_count": 21,
     "metadata": {},
     "output_type": "execute_result"
    }
   ],
   "source": [
    "\n",
    "# Joining all variables to create bowling stats \n",
    "Bowling = pd.concat([overs,runs_given,wickets,ER,dot_balls,Total_balls,fours, sixes,extras], axis=1)\n",
    "Bowling"
   ]
  },
  {
   "cell_type": "markdown",
   "metadata": {},
   "source": [
    "## Bowling stats"
   ]
  },
  {
   "cell_type": "code",
   "execution_count": 22,
   "metadata": {},
   "outputs": [
    {
     "data": {
      "text/html": [
       "<div><div id=94db0641-4d1b-4960-a052-53f7a0b8491d style=\"display:none; background-color:#9D6CFF; color:white; width:200px; height:30px; padding-left:5px; border-radius:4px; flex-direction:row; justify-content:space-around; align-items:center;\" onmouseover=\"this.style.backgroundColor='#BA9BF8'\" onmouseout=\"this.style.backgroundColor='#9D6CFF'\" onclick=\"window.commands?.execute('create-mitosheet-from-dataframe-output');\">See Full Dataframe in Mito</div> <script> if (window.commands.hasCommand('create-mitosheet-from-dataframe-output')) document.getElementById('94db0641-4d1b-4960-a052-53f7a0b8491d').style.display = 'flex' </script> <table border=\"1\" class=\"dataframe\">\n",
       "  <thead>\n",
       "    <tr style=\"text-align: right;\">\n",
       "      <th></th>\n",
       "      <th></th>\n",
       "      <th>Overs</th>\n",
       "      <th>Runs given</th>\n",
       "      <th>Wickets</th>\n",
       "      <th>ER</th>\n",
       "      <th>Dots</th>\n",
       "      <th>Total balls</th>\n",
       "      <th>Fours</th>\n",
       "      <th>Sixes</th>\n",
       "      <th>Extras</th>\n",
       "    </tr>\n",
       "    <tr>\n",
       "      <th>Bowling team</th>\n",
       "      <th>Bowler</th>\n",
       "      <th></th>\n",
       "      <th></th>\n",
       "      <th></th>\n",
       "      <th></th>\n",
       "      <th></th>\n",
       "      <th></th>\n",
       "      <th></th>\n",
       "      <th></th>\n",
       "      <th></th>\n",
       "    </tr>\n",
       "  </thead>\n",
       "  <tbody>\n",
       "    <tr>\n",
       "      <th rowspan=\"5\" valign=\"top\">Bangladesh</th>\n",
       "      <th>Mohammad Saifuddin</th>\n",
       "      <td>4.0</td>\n",
       "      <td>23</td>\n",
       "      <td>2</td>\n",
       "      <td>5.75</td>\n",
       "      <td>9</td>\n",
       "      <td>24</td>\n",
       "      <td>2</td>\n",
       "      <td>0</td>\n",
       "      <td>1</td>\n",
       "    </tr>\n",
       "    <tr>\n",
       "      <th>Mustafizur Rahman</th>\n",
       "      <td>4.0</td>\n",
       "      <td>31</td>\n",
       "      <td>3</td>\n",
       "      <td>7.75</td>\n",
       "      <td>9</td>\n",
       "      <td>24</td>\n",
       "      <td>3</td>\n",
       "      <td>1</td>\n",
       "      <td>1</td>\n",
       "    </tr>\n",
       "    <tr>\n",
       "      <th>Shakib Al Hasan</th>\n",
       "      <td>4.0</td>\n",
       "      <td>28</td>\n",
       "      <td>1</td>\n",
       "      <td>7.00</td>\n",
       "      <td>6</td>\n",
       "      <td>24</td>\n",
       "      <td>2</td>\n",
       "      <td>0</td>\n",
       "      <td>2</td>\n",
       "    </tr>\n",
       "    <tr>\n",
       "      <th>Shoriful Islam</th>\n",
       "      <td>3.0</td>\n",
       "      <td>17</td>\n",
       "      <td>2</td>\n",
       "      <td>5.67</td>\n",
       "      <td>11</td>\n",
       "      <td>18</td>\n",
       "      <td>1</td>\n",
       "      <td>1</td>\n",
       "      <td>0</td>\n",
       "    </tr>\n",
       "    <tr>\n",
       "      <th>Mahedi Hasan</th>\n",
       "      <td>1.0</td>\n",
       "      <td>18</td>\n",
       "      <td>0</td>\n",
       "      <td>18.00</td>\n",
       "      <td>1</td>\n",
       "      <td>6</td>\n",
       "      <td>1</td>\n",
       "      <td>2</td>\n",
       "      <td>0</td>\n",
       "    </tr>\n",
       "    <tr>\n",
       "      <th>...</th>\n",
       "      <th>...</th>\n",
       "      <td>...</td>\n",
       "      <td>...</td>\n",
       "      <td>...</td>\n",
       "      <td>...</td>\n",
       "      <td>...</td>\n",
       "      <td>...</td>\n",
       "      <td>...</td>\n",
       "      <td>...</td>\n",
       "      <td>...</td>\n",
       "    </tr>\n",
       "    <tr>\n",
       "      <th rowspan=\"5\" valign=\"top\">Zimbabwe</th>\n",
       "      <th>W Madhevere</th>\n",
       "      <td>3.0</td>\n",
       "      <td>24</td>\n",
       "      <td>0</td>\n",
       "      <td>8.00</td>\n",
       "      <td>6</td>\n",
       "      <td>18</td>\n",
       "      <td>2</td>\n",
       "      <td>0</td>\n",
       "      <td>3</td>\n",
       "    </tr>\n",
       "    <tr>\n",
       "      <th>R Ngarava</th>\n",
       "      <td>4.0</td>\n",
       "      <td>46</td>\n",
       "      <td>0</td>\n",
       "      <td>11.50</td>\n",
       "      <td>6</td>\n",
       "      <td>24</td>\n",
       "      <td>7</td>\n",
       "      <td>0</td>\n",
       "      <td>4</td>\n",
       "    </tr>\n",
       "    <tr>\n",
       "      <th>LM Jongwe</th>\n",
       "      <td>3.0</td>\n",
       "      <td>28</td>\n",
       "      <td>0</td>\n",
       "      <td>9.33</td>\n",
       "      <td>5</td>\n",
       "      <td>18</td>\n",
       "      <td>2</td>\n",
       "      <td>1</td>\n",
       "      <td>1</td>\n",
       "    </tr>\n",
       "    <tr>\n",
       "      <th>Sikandar Raza</th>\n",
       "      <td>2.0</td>\n",
       "      <td>16</td>\n",
       "      <td>0</td>\n",
       "      <td>8.00</td>\n",
       "      <td>2</td>\n",
       "      <td>12</td>\n",
       "      <td>1</td>\n",
       "      <td>0</td>\n",
       "      <td>1</td>\n",
       "    </tr>\n",
       "    <tr>\n",
       "      <th>WP Masakadza</th>\n",
       "      <td>3.0</td>\n",
       "      <td>20</td>\n",
       "      <td>0</td>\n",
       "      <td>6.67</td>\n",
       "      <td>4</td>\n",
       "      <td>18</td>\n",
       "      <td>0</td>\n",
       "      <td>1</td>\n",
       "      <td>0</td>\n",
       "    </tr>\n",
       "  </tbody>\n",
       "</table></div>"
      ],
      "text/plain": [
       "                                 Overs  Runs given  Wickets     ER  Dots  \\\n",
       "Bowling team Bowler                                                        \n",
       "Bangladesh   Mohammad Saifuddin    4.0          23        2   5.75     9   \n",
       "             Mustafizur Rahman     4.0          31        3   7.75     9   \n",
       "             Shakib Al Hasan       4.0          28        1   7.00     6   \n",
       "             Shoriful Islam        3.0          17        2   5.67    11   \n",
       "             Mahedi Hasan          1.0          18        0  18.00     1   \n",
       "             Mahmudullah           1.0          14        0  14.00     0   \n",
       "             Soumya Sarkar         2.0          18        1   9.00     2   \n",
       "Zimbabwe     B Muzarabani          3.5          19        0   4.96    10   \n",
       "             W Madhevere           3.0          24        0   8.00     6   \n",
       "             R Ngarava             4.0          46        0  11.50     6   \n",
       "             LM Jongwe             3.0          28        0   9.33     5   \n",
       "             Sikandar Raza         2.0          16        0   8.00     2   \n",
       "             WP Masakadza          3.0          20        0   6.67     4   \n",
       "\n",
       "                                 Total balls  Fours  Sixes  Extras  \n",
       "Bowling team Bowler                                                 \n",
       "Bangladesh   Mohammad Saifuddin           24      2      0       1  \n",
       "             Mustafizur Rahman            24      3      1       1  \n",
       "             Shakib Al Hasan              24      2      0       2  \n",
       "             Shoriful Islam               18      1      1       0  \n",
       "             Mahedi Hasan                  6      1      2       0  \n",
       "             Mahmudullah                   6      2      0       0  \n",
       "             Soumya Sarkar                12      1      0       0  \n",
       "Zimbabwe     B Muzarabani                 23      0      1       0  \n",
       "             W Madhevere                  18      2      0       3  \n",
       "             R Ngarava                    24      7      0       4  \n",
       "             LM Jongwe                    18      2      1       1  \n",
       "             Sikandar Raza                12      1      0       1  \n",
       "             WP Masakadza                 18      0      1       0  "
      ]
     },
     "execution_count": 22,
     "metadata": {},
     "output_type": "execute_result"
    }
   ],
   "source": [
    "# Renaming the variables\n",
    "Bowling.rename({\n",
    "                'ball':'Overs','runs_conceded':'Runs given',\n",
    "                'wkt_encode':'Wickets','0':'ER','dots':'Dots','Total_balls':'Total balls','4s_conceded':'Fours',\n",
    "                '6s_conceded':'Sixes', 'extras':'Extras'\n",
    "               }, axis=1, inplace=True)\n",
    "Bowling"
   ]
  },
  {
   "cell_type": "markdown",
   "metadata": {},
   "source": [
    "## Bangladesh bowling card"
   ]
  },
  {
   "cell_type": "code",
   "execution_count": 23,
   "metadata": {},
   "outputs": [
    {
     "data": {
      "text/html": [
       "<div><div id=b8f53e98-8ec2-4541-9703-0b864403f825 style=\"display:none; background-color:#9D6CFF; color:white; width:200px; height:30px; padding-left:5px; border-radius:4px; flex-direction:row; justify-content:space-around; align-items:center;\" onmouseover=\"this.style.backgroundColor='#BA9BF8'\" onmouseout=\"this.style.backgroundColor='#9D6CFF'\" onclick=\"window.commands?.execute('create-mitosheet-from-dataframe-output');\">See Full Dataframe in Mito</div> <script> if (window.commands.hasCommand('create-mitosheet-from-dataframe-output')) document.getElementById('b8f53e98-8ec2-4541-9703-0b864403f825').style.display = 'flex' </script> <table border=\"1\" class=\"dataframe\">\n",
       "  <thead>\n",
       "    <tr style=\"text-align: right;\">\n",
       "      <th></th>\n",
       "      <th></th>\n",
       "      <th>Overs</th>\n",
       "      <th>Runs given</th>\n",
       "      <th>Wickets</th>\n",
       "      <th>ER</th>\n",
       "      <th>Dots</th>\n",
       "      <th>Total balls</th>\n",
       "      <th>Fours</th>\n",
       "      <th>Sixes</th>\n",
       "      <th>Extras</th>\n",
       "    </tr>\n",
       "    <tr>\n",
       "      <th>Bowling team</th>\n",
       "      <th>Bowler</th>\n",
       "      <th></th>\n",
       "      <th></th>\n",
       "      <th></th>\n",
       "      <th></th>\n",
       "      <th></th>\n",
       "      <th></th>\n",
       "      <th></th>\n",
       "      <th></th>\n",
       "      <th></th>\n",
       "    </tr>\n",
       "  </thead>\n",
       "  <tbody>\n",
       "    <tr>\n",
       "      <th rowspan=\"7\" valign=\"top\">Bangladesh</th>\n",
       "      <th>Mohammad Saifuddin</th>\n",
       "      <td>4.0</td>\n",
       "      <td>23</td>\n",
       "      <td>2</td>\n",
       "      <td>5.75</td>\n",
       "      <td>9</td>\n",
       "      <td>24</td>\n",
       "      <td>2</td>\n",
       "      <td>0</td>\n",
       "      <td>1</td>\n",
       "    </tr>\n",
       "    <tr>\n",
       "      <th>Mustafizur Rahman</th>\n",
       "      <td>4.0</td>\n",
       "      <td>31</td>\n",
       "      <td>3</td>\n",
       "      <td>7.75</td>\n",
       "      <td>9</td>\n",
       "      <td>24</td>\n",
       "      <td>3</td>\n",
       "      <td>1</td>\n",
       "      <td>1</td>\n",
       "    </tr>\n",
       "    <tr>\n",
       "      <th>Shakib Al Hasan</th>\n",
       "      <td>4.0</td>\n",
       "      <td>28</td>\n",
       "      <td>1</td>\n",
       "      <td>7.00</td>\n",
       "      <td>6</td>\n",
       "      <td>24</td>\n",
       "      <td>2</td>\n",
       "      <td>0</td>\n",
       "      <td>2</td>\n",
       "    </tr>\n",
       "    <tr>\n",
       "      <th>Shoriful Islam</th>\n",
       "      <td>3.0</td>\n",
       "      <td>17</td>\n",
       "      <td>2</td>\n",
       "      <td>5.67</td>\n",
       "      <td>11</td>\n",
       "      <td>18</td>\n",
       "      <td>1</td>\n",
       "      <td>1</td>\n",
       "      <td>0</td>\n",
       "    </tr>\n",
       "    <tr>\n",
       "      <th>Mahedi Hasan</th>\n",
       "      <td>1.0</td>\n",
       "      <td>18</td>\n",
       "      <td>0</td>\n",
       "      <td>18.00</td>\n",
       "      <td>1</td>\n",
       "      <td>6</td>\n",
       "      <td>1</td>\n",
       "      <td>2</td>\n",
       "      <td>0</td>\n",
       "    </tr>\n",
       "    <tr>\n",
       "      <th>Mahmudullah</th>\n",
       "      <td>1.0</td>\n",
       "      <td>14</td>\n",
       "      <td>0</td>\n",
       "      <td>14.00</td>\n",
       "      <td>0</td>\n",
       "      <td>6</td>\n",
       "      <td>2</td>\n",
       "      <td>0</td>\n",
       "      <td>0</td>\n",
       "    </tr>\n",
       "    <tr>\n",
       "      <th>Soumya Sarkar</th>\n",
       "      <td>2.0</td>\n",
       "      <td>18</td>\n",
       "      <td>1</td>\n",
       "      <td>9.00</td>\n",
       "      <td>2</td>\n",
       "      <td>12</td>\n",
       "      <td>1</td>\n",
       "      <td>0</td>\n",
       "      <td>0</td>\n",
       "    </tr>\n",
       "  </tbody>\n",
       "</table></div>"
      ],
      "text/plain": [
       "                                 Overs  Runs given  Wickets     ER  Dots  \\\n",
       "Bowling team Bowler                                                        \n",
       "Bangladesh   Mohammad Saifuddin    4.0          23        2   5.75     9   \n",
       "             Mustafizur Rahman     4.0          31        3   7.75     9   \n",
       "             Shakib Al Hasan       4.0          28        1   7.00     6   \n",
       "             Shoriful Islam        3.0          17        2   5.67    11   \n",
       "             Mahedi Hasan          1.0          18        0  18.00     1   \n",
       "             Mahmudullah           1.0          14        0  14.00     0   \n",
       "             Soumya Sarkar         2.0          18        1   9.00     2   \n",
       "\n",
       "                                 Total balls  Fours  Sixes  Extras  \n",
       "Bowling team Bowler                                                 \n",
       "Bangladesh   Mohammad Saifuddin           24      2      0       1  \n",
       "             Mustafizur Rahman            24      3      1       1  \n",
       "             Shakib Al Hasan              24      2      0       2  \n",
       "             Shoriful Islam               18      1      1       0  \n",
       "             Mahedi Hasan                  6      1      2       0  \n",
       "             Mahmudullah                   6      2      0       0  \n",
       "             Soumya Sarkar                12      1      0       0  "
      ]
     },
     "execution_count": 23,
     "metadata": {},
     "output_type": "execute_result"
    }
   ],
   "source": [
    "Ban_Bowling = Bowling.iloc[:7,:]\n",
    "Ban_Bowling"
   ]
  },
  {
   "cell_type": "markdown",
   "metadata": {},
   "source": [
    "## Zimbabwe bowling card"
   ]
  },
  {
   "cell_type": "code",
   "execution_count": 24,
   "metadata": {},
   "outputs": [
    {
     "data": {
      "text/html": [
       "<div><div id=151570a6-228c-4622-a129-1297a19e9942 style=\"display:none; background-color:#9D6CFF; color:white; width:200px; height:30px; padding-left:5px; border-radius:4px; flex-direction:row; justify-content:space-around; align-items:center;\" onmouseover=\"this.style.backgroundColor='#BA9BF8'\" onmouseout=\"this.style.backgroundColor='#9D6CFF'\" onclick=\"window.commands?.execute('create-mitosheet-from-dataframe-output');\">See Full Dataframe in Mito</div> <script> if (window.commands.hasCommand('create-mitosheet-from-dataframe-output')) document.getElementById('151570a6-228c-4622-a129-1297a19e9942').style.display = 'flex' </script> <table border=\"1\" class=\"dataframe\">\n",
       "  <thead>\n",
       "    <tr style=\"text-align: right;\">\n",
       "      <th></th>\n",
       "      <th></th>\n",
       "      <th>Overs</th>\n",
       "      <th>Runs given</th>\n",
       "      <th>Wickets</th>\n",
       "      <th>ER</th>\n",
       "      <th>Dots</th>\n",
       "      <th>Total balls</th>\n",
       "      <th>Fours</th>\n",
       "      <th>Sixes</th>\n",
       "      <th>Extras</th>\n",
       "    </tr>\n",
       "    <tr>\n",
       "      <th>Bowling team</th>\n",
       "      <th>Bowler</th>\n",
       "      <th></th>\n",
       "      <th></th>\n",
       "      <th></th>\n",
       "      <th></th>\n",
       "      <th></th>\n",
       "      <th></th>\n",
       "      <th></th>\n",
       "      <th></th>\n",
       "      <th></th>\n",
       "    </tr>\n",
       "  </thead>\n",
       "  <tbody>\n",
       "    <tr>\n",
       "      <th rowspan=\"6\" valign=\"top\">Zimbabwe</th>\n",
       "      <th>B Muzarabani</th>\n",
       "      <td>3.5</td>\n",
       "      <td>19</td>\n",
       "      <td>0</td>\n",
       "      <td>4.96</td>\n",
       "      <td>10</td>\n",
       "      <td>23</td>\n",
       "      <td>0</td>\n",
       "      <td>1</td>\n",
       "      <td>0</td>\n",
       "    </tr>\n",
       "    <tr>\n",
       "      <th>W Madhevere</th>\n",
       "      <td>3.0</td>\n",
       "      <td>24</td>\n",
       "      <td>0</td>\n",
       "      <td>8.00</td>\n",
       "      <td>6</td>\n",
       "      <td>18</td>\n",
       "      <td>2</td>\n",
       "      <td>0</td>\n",
       "      <td>3</td>\n",
       "    </tr>\n",
       "    <tr>\n",
       "      <th>R Ngarava</th>\n",
       "      <td>4.0</td>\n",
       "      <td>46</td>\n",
       "      <td>0</td>\n",
       "      <td>11.50</td>\n",
       "      <td>6</td>\n",
       "      <td>24</td>\n",
       "      <td>7</td>\n",
       "      <td>0</td>\n",
       "      <td>4</td>\n",
       "    </tr>\n",
       "    <tr>\n",
       "      <th>LM Jongwe</th>\n",
       "      <td>3.0</td>\n",
       "      <td>28</td>\n",
       "      <td>0</td>\n",
       "      <td>9.33</td>\n",
       "      <td>5</td>\n",
       "      <td>18</td>\n",
       "      <td>2</td>\n",
       "      <td>1</td>\n",
       "      <td>1</td>\n",
       "    </tr>\n",
       "    <tr>\n",
       "      <th>Sikandar Raza</th>\n",
       "      <td>2.0</td>\n",
       "      <td>16</td>\n",
       "      <td>0</td>\n",
       "      <td>8.00</td>\n",
       "      <td>2</td>\n",
       "      <td>12</td>\n",
       "      <td>1</td>\n",
       "      <td>0</td>\n",
       "      <td>1</td>\n",
       "    </tr>\n",
       "    <tr>\n",
       "      <th>WP Masakadza</th>\n",
       "      <td>3.0</td>\n",
       "      <td>20</td>\n",
       "      <td>0</td>\n",
       "      <td>6.67</td>\n",
       "      <td>4</td>\n",
       "      <td>18</td>\n",
       "      <td>0</td>\n",
       "      <td>1</td>\n",
       "      <td>0</td>\n",
       "    </tr>\n",
       "  </tbody>\n",
       "</table></div>"
      ],
      "text/plain": [
       "                            Overs  Runs given  Wickets     ER  Dots  \\\n",
       "Bowling team Bowler                                                   \n",
       "Zimbabwe     B Muzarabani     3.5          19        0   4.96    10   \n",
       "             W Madhevere      3.0          24        0   8.00     6   \n",
       "             R Ngarava        4.0          46        0  11.50     6   \n",
       "             LM Jongwe        3.0          28        0   9.33     5   \n",
       "             Sikandar Raza    2.0          16        0   8.00     2   \n",
       "             WP Masakadza     3.0          20        0   6.67     4   \n",
       "\n",
       "                            Total balls  Fours  Sixes  Extras  \n",
       "Bowling team Bowler                                            \n",
       "Zimbabwe     B Muzarabani            23      0      1       0  \n",
       "             W Madhevere             18      2      0       3  \n",
       "             R Ngarava               24      7      0       4  \n",
       "             LM Jongwe               18      2      1       1  \n",
       "             Sikandar Raza           12      1      0       1  \n",
       "             WP Masakadza            18      0      1       0  "
      ]
     },
     "execution_count": 24,
     "metadata": {},
     "output_type": "execute_result"
    }
   ],
   "source": [
    "Zim_Bowling = Bowling.iloc[7:13,:]\n",
    "Zim_Bowling"
   ]
  },
  {
   "cell_type": "code",
   "execution_count": null,
   "metadata": {},
   "outputs": [],
   "source": []
  },
  {
   "cell_type": "markdown",
   "metadata": {},
   "source": [
    "### Que 1: Which Bowler has bowled with the least economy rate? [Min.3 overs Bowled]"
   ]
  },
  {
   "cell_type": "code",
   "execution_count": 25,
   "metadata": {},
   "outputs": [
    {
     "data": {
      "text/html": [
       "<div><div id=ca5edc45-8a63-4319-8e61-5ee7e3b2ceb2 style=\"display:none; background-color:#9D6CFF; color:white; width:200px; height:30px; padding-left:5px; border-radius:4px; flex-direction:row; justify-content:space-around; align-items:center;\" onmouseover=\"this.style.backgroundColor='#BA9BF8'\" onmouseout=\"this.style.backgroundColor='#9D6CFF'\" onclick=\"window.commands?.execute('create-mitosheet-from-dataframe-output');\">See Full Dataframe in Mito</div> <script> if (window.commands.hasCommand('create-mitosheet-from-dataframe-output')) document.getElementById('ca5edc45-8a63-4319-8e61-5ee7e3b2ceb2').style.display = 'flex' </script> <table border=\"1\" class=\"dataframe\">\n",
       "  <thead>\n",
       "    <tr style=\"text-align: right;\">\n",
       "      <th></th>\n",
       "      <th></th>\n",
       "      <th>Overs</th>\n",
       "      <th>Runs given</th>\n",
       "      <th>Wickets</th>\n",
       "      <th>ER</th>\n",
       "    </tr>\n",
       "    <tr>\n",
       "      <th>Bowling team</th>\n",
       "      <th>Bowler</th>\n",
       "      <th></th>\n",
       "      <th></th>\n",
       "      <th></th>\n",
       "      <th></th>\n",
       "    </tr>\n",
       "  </thead>\n",
       "  <tbody>\n",
       "    <tr>\n",
       "      <th>Zimbabwe</th>\n",
       "      <th>B Muzarabani</th>\n",
       "      <td>3.5</td>\n",
       "      <td>19</td>\n",
       "      <td>0</td>\n",
       "      <td>4.96</td>\n",
       "    </tr>\n",
       "  </tbody>\n",
       "</table></div>"
      ],
      "text/plain": [
       "                           Overs  Runs given  Wickets    ER\n",
       "Bowling team Bowler                                        \n",
       "Zimbabwe     B Muzarabani    3.5          19        0  4.96"
      ]
     },
     "execution_count": 25,
     "metadata": {},
     "output_type": "execute_result"
    }
   ],
   "source": [
    "Bowling_1 = Bowling[(Bowling.Overs >=3)]\n",
    "Bowling_1[Bowling_1.ER == Bowling_1.ER.min()].iloc[:,0:4]"
   ]
  },
  {
   "cell_type": "markdown",
   "metadata": {},
   "source": [
    "### Que 2: Which Bowler has conceded most numbers of boundaries [4s and 6s] in the match"
   ]
  },
  {
   "cell_type": "code",
   "execution_count": 26,
   "metadata": {},
   "outputs": [
    {
     "name": "stdout",
     "output_type": "stream",
     "text": [
      "\n"
     ]
    },
    {
     "data": {
      "text/html": [
       "<div><div id=c39f80a4-7916-4a31-942d-02ad02b574fa style=\"display:none; background-color:#9D6CFF; color:white; width:200px; height:30px; padding-left:5px; border-radius:4px; flex-direction:row; justify-content:space-around; align-items:center;\" onmouseover=\"this.style.backgroundColor='#BA9BF8'\" onmouseout=\"this.style.backgroundColor='#9D6CFF'\" onclick=\"window.commands?.execute('create-mitosheet-from-dataframe-output');\">See Full Dataframe in Mito</div> <script> if (window.commands.hasCommand('create-mitosheet-from-dataframe-output')) document.getElementById('c39f80a4-7916-4a31-942d-02ad02b574fa').style.display = 'flex' </script> <table border=\"1\" class=\"dataframe\">\n",
       "  <thead>\n",
       "    <tr style=\"text-align: right;\">\n",
       "      <th></th>\n",
       "      <th></th>\n",
       "      <th>Overs</th>\n",
       "      <th>Wickets</th>\n",
       "      <th>Dots</th>\n",
       "      <th>Fours</th>\n",
       "      <th>Sixes</th>\n",
       "    </tr>\n",
       "    <tr>\n",
       "      <th>Bowling team</th>\n",
       "      <th>Bowler</th>\n",
       "      <th></th>\n",
       "      <th></th>\n",
       "      <th></th>\n",
       "      <th></th>\n",
       "      <th></th>\n",
       "    </tr>\n",
       "  </thead>\n",
       "  <tbody>\n",
       "    <tr>\n",
       "      <th>Bangladesh</th>\n",
       "      <th>Mustafizur Rahman</th>\n",
       "      <td>4.0</td>\n",
       "      <td>3</td>\n",
       "      <td>9</td>\n",
       "      <td>3</td>\n",
       "      <td>1</td>\n",
       "    </tr>\n",
       "    <tr>\n",
       "      <th>Zimbabwe</th>\n",
       "      <th>R Ngarava</th>\n",
       "      <td>4.0</td>\n",
       "      <td>0</td>\n",
       "      <td>6</td>\n",
       "      <td>7</td>\n",
       "      <td>0</td>\n",
       "    </tr>\n",
       "  </tbody>\n",
       "</table></div>"
      ],
      "text/plain": [
       "                                Overs  Wickets  Dots  Fours  Sixes\n",
       "Bowling team Bowler                                               \n",
       "Bangladesh   Mustafizur Rahman    4.0        3     9      3      1\n",
       "Zimbabwe     R Ngarava            4.0        0     6      7      0"
      ]
     },
     "execution_count": 26,
     "metadata": {},
     "output_type": "execute_result"
    }
   ],
   "source": [
    "ban_bwl = Ban_Bowling[(Ban_Bowling.Fours + Ban_Bowling.Sixes) == (Ban_Bowling.Fours + Ban_Bowling.Sixes).max()].iloc[:,[0,2,4,6,7]]\n",
    "print()\n",
    "zim_bwl = Zim_Bowling[(Zim_Bowling.Fours + Zim_Bowling.Sixes) == (Zim_Bowling.Fours + Zim_Bowling.Sixes).max()].iloc[:,[0,2,4,6,7]]\n",
    "\n",
    "concat = pd.concat([ban_bwl, zim_bwl], axis=0)\n",
    "concat\n"
   ]
  },
  {
   "cell_type": "markdown",
   "metadata": {},
   "source": [
    "### Que 3: How many bowlers have conceded more than three 4s in the match?"
   ]
  },
  {
   "cell_type": "code",
   "execution_count": 27,
   "metadata": {},
   "outputs": [
    {
     "data": {
      "text/html": [
       "<div><div id=9903df5f-709a-4dfe-9b2b-e23147d9b768 style=\"display:none; background-color:#9D6CFF; color:white; width:200px; height:30px; padding-left:5px; border-radius:4px; flex-direction:row; justify-content:space-around; align-items:center;\" onmouseover=\"this.style.backgroundColor='#BA9BF8'\" onmouseout=\"this.style.backgroundColor='#9D6CFF'\" onclick=\"window.commands?.execute('create-mitosheet-from-dataframe-output');\">See Full Dataframe in Mito</div> <script> if (window.commands.hasCommand('create-mitosheet-from-dataframe-output')) document.getElementById('9903df5f-709a-4dfe-9b2b-e23147d9b768').style.display = 'flex' </script> <table border=\"1\" class=\"dataframe\">\n",
       "  <thead>\n",
       "    <tr style=\"text-align: right;\">\n",
       "      <th></th>\n",
       "      <th></th>\n",
       "      <th>Overs</th>\n",
       "      <th>Fours</th>\n",
       "    </tr>\n",
       "    <tr>\n",
       "      <th>Bowling team</th>\n",
       "      <th>Bowler</th>\n",
       "      <th></th>\n",
       "      <th></th>\n",
       "    </tr>\n",
       "  </thead>\n",
       "  <tbody>\n",
       "    <tr>\n",
       "      <th>Zimbabwe</th>\n",
       "      <th>R Ngarava</th>\n",
       "      <td>4.0</td>\n",
       "      <td>7</td>\n",
       "    </tr>\n",
       "  </tbody>\n",
       "</table></div>"
      ],
      "text/plain": [
       "                        Overs  Fours\n",
       "Bowling team Bowler                 \n",
       "Zimbabwe     R Ngarava    4.0      7"
      ]
     },
     "metadata": {},
     "output_type": "display_data"
    },
    {
     "name": "stdout",
     "output_type": "stream",
     "text": [
      "\n",
      "No.of bowlers conceded more than three 4s in the match: 1\n"
     ]
    }
   ],
   "source": [
    "Bowling_4s=Bowling[Bowling.Fours >3].iloc[:,[0,6]]\n",
    "display(Bowling_4s)\n",
    "print()\n",
    "print(\"No.of bowlers conceded more than three 4s in the match:\",len(Bowling_4s))"
   ]
  },
  {
   "cell_type": "markdown",
   "metadata": {},
   "source": [
    "## Batting Stats"
   ]
  },
  {
   "cell_type": "markdown",
   "metadata": {},
   "source": [
    "### 1. Run-Scorers"
   ]
  },
  {
   "cell_type": "code",
   "execution_count": 28,
   "metadata": {},
   "outputs": [
    {
     "data": {
      "text/plain": [
       "Batting team  Batter       \n",
       "Zimbabwe      W Madhevere      23\n",
       "              T Marumani        7\n",
       "              RW Chakabva      43\n",
       "              D Myers          35\n",
       "              Sikandar Raza     0\n",
       "              TK Musakanda      6\n",
       "              RP Burl           4\n",
       "              LM Jongwe        18\n",
       "              WP Masakadza      4\n",
       "              R Ngarava         0\n",
       "              B Muzarabani      8\n",
       "Bangladesh    Mohammad Naim    63\n",
       "              Soumya Sarkar    50\n",
       "              Mahmudullah      15\n",
       "              Nurul Hasan      16\n",
       "Name: Runs, dtype: int64"
      ]
     },
     "execution_count": 28,
     "metadata": {},
     "output_type": "execute_result"
    }
   ],
   "source": [
    "# runs scored by batter\n",
    "runs = df.groupby(['Batting team', 'Batter'],sort = False)['runs_off_bat'].sum().rename('Runs')\n",
    "runs"
   ]
  },
  {
   "cell_type": "markdown",
   "metadata": {},
   "source": [
    "### 2. Balls Played by batter"
   ]
  },
  {
   "cell_type": "code",
   "execution_count": 29,
   "metadata": {},
   "outputs": [
    {
     "data": {
      "text/plain": [
       "Batting team  Batter       \n",
       "Zimbabwe      W Madhevere      23\n",
       "              T Marumani        7\n",
       "              RW Chakabva      22\n",
       "              D Myers          22\n",
       "              Sikandar Raza     3\n",
       "              TK Musakanda      6\n",
       "              RP Burl           6\n",
       "              LM Jongwe        16\n",
       "              WP Masakadza      3\n",
       "              R Ngarava         2\n",
       "              B Muzarabani      4\n",
       "Bangladesh    Mohammad Naim    51\n",
       "              Soumya Sarkar    45\n",
       "              Mahmudullah      12\n",
       "              Nurul Hasan       8\n",
       "Name: Balls_played, dtype: int64"
      ]
     },
     "execution_count": 29,
     "metadata": {},
     "output_type": "execute_result"
    }
   ],
   "source": [
    "# balls played\n",
    "ball_plyd = df[df.wides <1].groupby(['Batting team', 'Batter'],sort = False)['wides'].count().rename('Balls_played')\n",
    "ball_plyd "
   ]
  },
  {
   "cell_type": "markdown",
   "metadata": {},
   "source": [
    "### 3. Fours by Batter"
   ]
  },
  {
   "cell_type": "code",
   "execution_count": 30,
   "metadata": {},
   "outputs": [
    {
     "data": {
      "text/plain": [
       "Batting team  Batter       \n",
       "Zimbabwe      W Madhevere      0\n",
       "              T Marumani       0\n",
       "              RW Chakabva      5\n",
       "              D Myers          2\n",
       "              Sikandar Raza    0\n",
       "              TK Musakanda     1\n",
       "              RP Burl          0\n",
       "              LM Jongwe        2\n",
       "              WP Masakadza     0\n",
       "              R Ngarava        0\n",
       "              B Muzarabani     2\n",
       "Bangladesh    Mohammad Naim    6\n",
       "              Soumya Sarkar    4\n",
       "              Mahmudullah      1\n",
       "              Nurul Hasan      1\n",
       "Name: Fours, dtype: int64"
      ]
     },
     "execution_count": 30,
     "metadata": {},
     "output_type": "execute_result"
    }
   ],
   "source": [
    "# Fours by Batters\n",
    "\n",
    "df['4s_score'] = df['runs_off_bat'].apply(lambda x: 1 if x == 4 else 0)\n",
    "Fours = df.groupby(['Batting team', 'Batter'],sort = False)['4s_score'].sum().rename('Fours')\n",
    "Fours"
   ]
  },
  {
   "cell_type": "markdown",
   "metadata": {},
   "source": [
    "### 4. Sixes by Batter"
   ]
  },
  {
   "cell_type": "code",
   "execution_count": 31,
   "metadata": {},
   "outputs": [
    {
     "data": {
      "text/plain": [
       "Batting team  Batter       \n",
       "Zimbabwe      W Madhevere      1\n",
       "              T Marumani       1\n",
       "              RW Chakabva      2\n",
       "              D Myers          0\n",
       "              Sikandar Raza    0\n",
       "              TK Musakanda     0\n",
       "              RP Burl          0\n",
       "              LM Jongwe        0\n",
       "              WP Masakadza     0\n",
       "              R Ngarava        0\n",
       "              B Muzarabani     0\n",
       "Bangladesh    Mohammad Naim    0\n",
       "              Soumya Sarkar    2\n",
       "              Mahmudullah      0\n",
       "              Nurul Hasan      1\n",
       "Name: Sixes, dtype: int64"
      ]
     },
     "execution_count": 31,
     "metadata": {},
     "output_type": "execute_result"
    }
   ],
   "source": [
    "# Sixes by Batters\n",
    "\n",
    "df['6s_score'] = df['runs_off_bat'].apply(lambda x: 1 if x == 6 else 0)\n",
    "Sixes = df.groupby(['Batting team', 'Batter'],sort = False)['6s_score'].sum().rename('Sixes')\n",
    "Sixes"
   ]
  },
  {
   "cell_type": "markdown",
   "metadata": {},
   "source": [
    "### 5. Strike Rate"
   ]
  },
  {
   "cell_type": "code",
   "execution_count": 32,
   "metadata": {},
   "outputs": [
    {
     "data": {
      "text/plain": [
       "Batting team  Batter       \n",
       "Zimbabwe      W Madhevere      100.00\n",
       "              T Marumani       100.00\n",
       "              RW Chakabva      195.45\n",
       "              D Myers          159.09\n",
       "              Sikandar Raza      0.00\n",
       "              TK Musakanda     100.00\n",
       "              RP Burl           66.67\n",
       "              LM Jongwe        112.50\n",
       "              WP Masakadza     133.33\n",
       "              R Ngarava          0.00\n",
       "              B Muzarabani     200.00\n",
       "Bangladesh    Mohammad Naim    123.53\n",
       "              Soumya Sarkar    111.11\n",
       "              Mahmudullah      125.00\n",
       "              Nurul Hasan      200.00\n",
       "Name: SR, dtype: float64"
      ]
     },
     "execution_count": 32,
     "metadata": {},
     "output_type": "execute_result"
    }
   ],
   "source": [
    "# strikr rate\n",
    "sr = round(runs/(ball_plyd)*100,2).rename('SR')\n",
    "sr"
   ]
  },
  {
   "cell_type": "markdown",
   "metadata": {},
   "source": [
    "### 6. Runs from boundries"
   ]
  },
  {
   "cell_type": "code",
   "execution_count": 33,
   "metadata": {},
   "outputs": [
    {
     "data": {
      "text/plain": [
       "Batting team  Batter       \n",
       "Zimbabwe      W Madhevere       6\n",
       "              T Marumani        6\n",
       "              RW Chakabva      32\n",
       "              D Myers           8\n",
       "              Sikandar Raza     0\n",
       "              TK Musakanda      4\n",
       "              LM Jongwe         8\n",
       "              RP Burl           0\n",
       "              R Ngarava         0\n",
       "              B Muzarabani      8\n",
       "Bangladesh    Soumya Sarkar    28\n",
       "              Mohammad Naim    24\n",
       "              Mahmudullah       4\n",
       "              Nurul Hasan      10\n",
       "Name: runs_boundry, dtype: int64"
      ]
     },
     "execution_count": 33,
     "metadata": {},
     "output_type": "execute_result"
    }
   ],
   "source": [
    "\n",
    "# Runs scored in boundries\n",
    "df.boundry_runs = df[(df.runs_off_bat==4) + (df.runs_off_bat==6) + (df.runs_off_bat==0)]\n",
    "run_br = df.boundry_runs.groupby(['Batting team', 'Batter'],sort = False)['runs_off_bat'].sum().rename('runs_boundry')\n",
    "run_br"
   ]
  },
  {
   "cell_type": "markdown",
   "metadata": {},
   "source": [
    "### 7. Percentage of runs scored from boundries "
   ]
  },
  {
   "cell_type": "code",
   "execution_count": 34,
   "metadata": {},
   "outputs": [
    {
     "data": {
      "text/plain": [
       "Batting team  Batter       \n",
       "Bangladesh    Mahmudullah       26.67\n",
       "              Mohammad Naim     38.10\n",
       "              Nurul Hasan       62.50\n",
       "              Soumya Sarkar     56.00\n",
       "Zimbabwe      B Muzarabani     100.00\n",
       "              D Myers           22.86\n",
       "              LM Jongwe         44.44\n",
       "              R Ngarava          0.00\n",
       "              RP Burl            0.00\n",
       "              RW Chakabva       74.42\n",
       "              Sikandar Raza      0.00\n",
       "              T Marumani        85.71\n",
       "              TK Musakanda      66.67\n",
       "              W Madhevere       26.09\n",
       "              WP Masakadza       0.00\n",
       "Name: Percent_runs_in_boundries, dtype: float64"
      ]
     },
     "execution_count": 34,
     "metadata": {},
     "output_type": "execute_result"
    }
   ],
   "source": [
    "# percent of runs from boundries\n",
    "percent_runs = round(run_br/runs *100, 2).rename('Percent_runs_in_boundries').fillna(0.0)\n",
    "percent_runs"
   ]
  },
  {
   "cell_type": "markdown",
   "metadata": {},
   "source": [
    "## Creating batting sheet"
   ]
  },
  {
   "cell_type": "code",
   "execution_count": 35,
   "metadata": {},
   "outputs": [
    {
     "data": {
      "text/html": [
       "<div><div id=fb6a18ef-5f5b-4941-863e-b0302bae7227 style=\"display:none; background-color:#9D6CFF; color:white; width:200px; height:30px; padding-left:5px; border-radius:4px; flex-direction:row; justify-content:space-around; align-items:center;\" onmouseover=\"this.style.backgroundColor='#BA9BF8'\" onmouseout=\"this.style.backgroundColor='#9D6CFF'\" onclick=\"window.commands?.execute('create-mitosheet-from-dataframe-output');\">See Full Dataframe in Mito</div> <script> if (window.commands.hasCommand('create-mitosheet-from-dataframe-output')) document.getElementById('fb6a18ef-5f5b-4941-863e-b0302bae7227').style.display = 'flex' </script> <table border=\"1\" class=\"dataframe\">\n",
       "  <thead>\n",
       "    <tr style=\"text-align: right;\">\n",
       "      <th></th>\n",
       "      <th></th>\n",
       "      <th>Runs</th>\n",
       "      <th>Balls_played</th>\n",
       "      <th>Fours</th>\n",
       "      <th>Sixes</th>\n",
       "      <th>SR</th>\n",
       "      <th>runs_boundry</th>\n",
       "      <th>Percent_runs_in_boundries</th>\n",
       "    </tr>\n",
       "    <tr>\n",
       "      <th>Batting team</th>\n",
       "      <th>Batter</th>\n",
       "      <th></th>\n",
       "      <th></th>\n",
       "      <th></th>\n",
       "      <th></th>\n",
       "      <th></th>\n",
       "      <th></th>\n",
       "      <th></th>\n",
       "    </tr>\n",
       "  </thead>\n",
       "  <tbody>\n",
       "    <tr>\n",
       "      <th rowspan=\"4\" valign=\"top\">Bangladesh</th>\n",
       "      <th>Mahmudullah</th>\n",
       "      <td>15</td>\n",
       "      <td>12</td>\n",
       "      <td>1</td>\n",
       "      <td>0</td>\n",
       "      <td>125.00</td>\n",
       "      <td>4</td>\n",
       "      <td>26.67</td>\n",
       "    </tr>\n",
       "    <tr>\n",
       "      <th>Mohammad Naim</th>\n",
       "      <td>63</td>\n",
       "      <td>51</td>\n",
       "      <td>6</td>\n",
       "      <td>0</td>\n",
       "      <td>123.53</td>\n",
       "      <td>24</td>\n",
       "      <td>38.10</td>\n",
       "    </tr>\n",
       "    <tr>\n",
       "      <th>Nurul Hasan</th>\n",
       "      <td>16</td>\n",
       "      <td>8</td>\n",
       "      <td>1</td>\n",
       "      <td>1</td>\n",
       "      <td>200.00</td>\n",
       "      <td>10</td>\n",
       "      <td>62.50</td>\n",
       "    </tr>\n",
       "    <tr>\n",
       "      <th>Soumya Sarkar</th>\n",
       "      <td>50</td>\n",
       "      <td>45</td>\n",
       "      <td>4</td>\n",
       "      <td>2</td>\n",
       "      <td>111.11</td>\n",
       "      <td>28</td>\n",
       "      <td>56.00</td>\n",
       "    </tr>\n",
       "    <tr>\n",
       "      <th rowspan=\"7\" valign=\"top\">Zimbabwe</th>\n",
       "      <th>B Muzarabani</th>\n",
       "      <td>8</td>\n",
       "      <td>4</td>\n",
       "      <td>2</td>\n",
       "      <td>0</td>\n",
       "      <td>200.00</td>\n",
       "      <td>8</td>\n",
       "      <td>100.00</td>\n",
       "    </tr>\n",
       "    <tr>\n",
       "      <th>...</th>\n",
       "      <td>...</td>\n",
       "      <td>...</td>\n",
       "      <td>...</td>\n",
       "      <td>...</td>\n",
       "      <td>...</td>\n",
       "      <td>...</td>\n",
       "      <td>...</td>\n",
       "    </tr>\n",
       "    <tr>\n",
       "      <th>Sikandar Raza</th>\n",
       "      <td>0</td>\n",
       "      <td>3</td>\n",
       "      <td>0</td>\n",
       "      <td>0</td>\n",
       "      <td>0.00</td>\n",
       "      <td>0</td>\n",
       "      <td>0.00</td>\n",
       "    </tr>\n",
       "    <tr>\n",
       "      <th>T Marumani</th>\n",
       "      <td>7</td>\n",
       "      <td>7</td>\n",
       "      <td>0</td>\n",
       "      <td>1</td>\n",
       "      <td>100.00</td>\n",
       "      <td>6</td>\n",
       "      <td>85.71</td>\n",
       "    </tr>\n",
       "    <tr>\n",
       "      <th>TK Musakanda</th>\n",
       "      <td>6</td>\n",
       "      <td>6</td>\n",
       "      <td>1</td>\n",
       "      <td>0</td>\n",
       "      <td>100.00</td>\n",
       "      <td>4</td>\n",
       "      <td>66.67</td>\n",
       "    </tr>\n",
       "    <tr>\n",
       "      <th>W Madhevere</th>\n",
       "      <td>23</td>\n",
       "      <td>23</td>\n",
       "      <td>0</td>\n",
       "      <td>1</td>\n",
       "      <td>100.00</td>\n",
       "      <td>6</td>\n",
       "      <td>26.09</td>\n",
       "    </tr>\n",
       "    <tr>\n",
       "      <th>WP Masakadza</th>\n",
       "      <td>4</td>\n",
       "      <td>3</td>\n",
       "      <td>0</td>\n",
       "      <td>0</td>\n",
       "      <td>133.33</td>\n",
       "      <td>0</td>\n",
       "      <td>0.00</td>\n",
       "    </tr>\n",
       "  </tbody>\n",
       "</table></div>"
      ],
      "text/plain": [
       "                            Runs  Balls_played  Fours  Sixes      SR  \\\n",
       "Batting team Batter                                                    \n",
       "Bangladesh   Mahmudullah      15            12      1      0  125.00   \n",
       "             Mohammad Naim    63            51      6      0  123.53   \n",
       "             Nurul Hasan      16             8      1      1  200.00   \n",
       "             Soumya Sarkar    50            45      4      2  111.11   \n",
       "Zimbabwe     B Muzarabani      8             4      2      0  200.00   \n",
       "             D Myers          35            22      2      0  159.09   \n",
       "             LM Jongwe        18            16      2      0  112.50   \n",
       "             R Ngarava         0             2      0      0    0.00   \n",
       "             RP Burl           4             6      0      0   66.67   \n",
       "             RW Chakabva      43            22      5      2  195.45   \n",
       "             Sikandar Raza     0             3      0      0    0.00   \n",
       "             T Marumani        7             7      0      1  100.00   \n",
       "             TK Musakanda      6             6      1      0  100.00   \n",
       "             W Madhevere      23            23      0      1  100.00   \n",
       "             WP Masakadza      4             3      0      0  133.33   \n",
       "\n",
       "                            runs_boundry  Percent_runs_in_boundries  \n",
       "Batting team Batter                                                  \n",
       "Bangladesh   Mahmudullah               4                      26.67  \n",
       "             Mohammad Naim            24                      38.10  \n",
       "             Nurul Hasan              10                      62.50  \n",
       "             Soumya Sarkar            28                      56.00  \n",
       "Zimbabwe     B Muzarabani              8                     100.00  \n",
       "             D Myers                   8                      22.86  \n",
       "             LM Jongwe                 8                      44.44  \n",
       "             R Ngarava                 0                       0.00  \n",
       "             RP Burl                   0                       0.00  \n",
       "             RW Chakabva              32                      74.42  \n",
       "             Sikandar Raza             0                       0.00  \n",
       "             T Marumani                6                      85.71  \n",
       "             TK Musakanda              4                      66.67  \n",
       "             W Madhevere               6                      26.09  \n",
       "             WP Masakadza              0                       0.00  "
      ]
     },
     "execution_count": 35,
     "metadata": {},
     "output_type": "execute_result"
    }
   ],
   "source": [
    "\n",
    "# Creating total scoresheet\n",
    "Batting = pd.concat([runs,ball_plyd,Fours, Sixes,sr,run_br,percent_runs], axis=1, sort=False).fillna(0).astype({\"runs_boundry\": int})\n",
    "Batting"
   ]
  },
  {
   "cell_type": "markdown",
   "metadata": {},
   "source": [
    "### Zimbabwe Batting"
   ]
  },
  {
   "cell_type": "code",
   "execution_count": 36,
   "metadata": {},
   "outputs": [
    {
     "data": {
      "text/html": [
       "<div><div id=493ff8fc-961d-4c96-9813-8fc9d143d8b7 style=\"display:none; background-color:#9D6CFF; color:white; width:200px; height:30px; padding-left:5px; border-radius:4px; flex-direction:row; justify-content:space-around; align-items:center;\" onmouseover=\"this.style.backgroundColor='#BA9BF8'\" onmouseout=\"this.style.backgroundColor='#9D6CFF'\" onclick=\"window.commands?.execute('create-mitosheet-from-dataframe-output');\">See Full Dataframe in Mito</div> <script> if (window.commands.hasCommand('create-mitosheet-from-dataframe-output')) document.getElementById('493ff8fc-961d-4c96-9813-8fc9d143d8b7').style.display = 'flex' </script> <table border=\"1\" class=\"dataframe\">\n",
       "  <thead>\n",
       "    <tr style=\"text-align: right;\">\n",
       "      <th></th>\n",
       "      <th></th>\n",
       "      <th>Runs</th>\n",
       "      <th>Balls_played</th>\n",
       "      <th>Fours</th>\n",
       "      <th>Sixes</th>\n",
       "      <th>SR</th>\n",
       "      <th>runs_boundry</th>\n",
       "      <th>Percent_runs_in_boundries</th>\n",
       "    </tr>\n",
       "    <tr>\n",
       "      <th>Batting team</th>\n",
       "      <th>Batter</th>\n",
       "      <th></th>\n",
       "      <th></th>\n",
       "      <th></th>\n",
       "      <th></th>\n",
       "      <th></th>\n",
       "      <th></th>\n",
       "      <th></th>\n",
       "    </tr>\n",
       "  </thead>\n",
       "  <tbody>\n",
       "    <tr>\n",
       "      <th rowspan=\"11\" valign=\"top\">Zimbabwe</th>\n",
       "      <th>B Muzarabani</th>\n",
       "      <td>8</td>\n",
       "      <td>4</td>\n",
       "      <td>2</td>\n",
       "      <td>0</td>\n",
       "      <td>200.00</td>\n",
       "      <td>8</td>\n",
       "      <td>100.00</td>\n",
       "    </tr>\n",
       "    <tr>\n",
       "      <th>D Myers</th>\n",
       "      <td>35</td>\n",
       "      <td>22</td>\n",
       "      <td>2</td>\n",
       "      <td>0</td>\n",
       "      <td>159.09</td>\n",
       "      <td>8</td>\n",
       "      <td>22.86</td>\n",
       "    </tr>\n",
       "    <tr>\n",
       "      <th>LM Jongwe</th>\n",
       "      <td>18</td>\n",
       "      <td>16</td>\n",
       "      <td>2</td>\n",
       "      <td>0</td>\n",
       "      <td>112.50</td>\n",
       "      <td>8</td>\n",
       "      <td>44.44</td>\n",
       "    </tr>\n",
       "    <tr>\n",
       "      <th>R Ngarava</th>\n",
       "      <td>0</td>\n",
       "      <td>2</td>\n",
       "      <td>0</td>\n",
       "      <td>0</td>\n",
       "      <td>0.00</td>\n",
       "      <td>0</td>\n",
       "      <td>0.00</td>\n",
       "    </tr>\n",
       "    <tr>\n",
       "      <th>RP Burl</th>\n",
       "      <td>4</td>\n",
       "      <td>6</td>\n",
       "      <td>0</td>\n",
       "      <td>0</td>\n",
       "      <td>66.67</td>\n",
       "      <td>0</td>\n",
       "      <td>0.00</td>\n",
       "    </tr>\n",
       "    <tr>\n",
       "      <th>...</th>\n",
       "      <td>...</td>\n",
       "      <td>...</td>\n",
       "      <td>...</td>\n",
       "      <td>...</td>\n",
       "      <td>...</td>\n",
       "      <td>...</td>\n",
       "      <td>...</td>\n",
       "    </tr>\n",
       "    <tr>\n",
       "      <th>Sikandar Raza</th>\n",
       "      <td>0</td>\n",
       "      <td>3</td>\n",
       "      <td>0</td>\n",
       "      <td>0</td>\n",
       "      <td>0.00</td>\n",
       "      <td>0</td>\n",
       "      <td>0.00</td>\n",
       "    </tr>\n",
       "    <tr>\n",
       "      <th>T Marumani</th>\n",
       "      <td>7</td>\n",
       "      <td>7</td>\n",
       "      <td>0</td>\n",
       "      <td>1</td>\n",
       "      <td>100.00</td>\n",
       "      <td>6</td>\n",
       "      <td>85.71</td>\n",
       "    </tr>\n",
       "    <tr>\n",
       "      <th>TK Musakanda</th>\n",
       "      <td>6</td>\n",
       "      <td>6</td>\n",
       "      <td>1</td>\n",
       "      <td>0</td>\n",
       "      <td>100.00</td>\n",
       "      <td>4</td>\n",
       "      <td>66.67</td>\n",
       "    </tr>\n",
       "    <tr>\n",
       "      <th>W Madhevere</th>\n",
       "      <td>23</td>\n",
       "      <td>23</td>\n",
       "      <td>0</td>\n",
       "      <td>1</td>\n",
       "      <td>100.00</td>\n",
       "      <td>6</td>\n",
       "      <td>26.09</td>\n",
       "    </tr>\n",
       "    <tr>\n",
       "      <th>WP Masakadza</th>\n",
       "      <td>4</td>\n",
       "      <td>3</td>\n",
       "      <td>0</td>\n",
       "      <td>0</td>\n",
       "      <td>133.33</td>\n",
       "      <td>0</td>\n",
       "      <td>0.00</td>\n",
       "    </tr>\n",
       "  </tbody>\n",
       "</table></div>"
      ],
      "text/plain": [
       "                            Runs  Balls_played  Fours  Sixes      SR  \\\n",
       "Batting team Batter                                                    \n",
       "Zimbabwe     B Muzarabani      8             4      2      0  200.00   \n",
       "             D Myers          35            22      2      0  159.09   \n",
       "             LM Jongwe        18            16      2      0  112.50   \n",
       "             R Ngarava         0             2      0      0    0.00   \n",
       "             RP Burl           4             6      0      0   66.67   \n",
       "             RW Chakabva      43            22      5      2  195.45   \n",
       "             Sikandar Raza     0             3      0      0    0.00   \n",
       "             T Marumani        7             7      0      1  100.00   \n",
       "             TK Musakanda      6             6      1      0  100.00   \n",
       "             W Madhevere      23            23      0      1  100.00   \n",
       "             WP Masakadza      4             3      0      0  133.33   \n",
       "\n",
       "                            runs_boundry  Percent_runs_in_boundries  \n",
       "Batting team Batter                                                  \n",
       "Zimbabwe     B Muzarabani              8                     100.00  \n",
       "             D Myers                   8                      22.86  \n",
       "             LM Jongwe                 8                      44.44  \n",
       "             R Ngarava                 0                       0.00  \n",
       "             RP Burl                   0                       0.00  \n",
       "             RW Chakabva              32                      74.42  \n",
       "             Sikandar Raza             0                       0.00  \n",
       "             T Marumani                6                      85.71  \n",
       "             TK Musakanda              4                      66.67  \n",
       "             W Madhevere               6                      26.09  \n",
       "             WP Masakadza              0                       0.00  "
      ]
     },
     "execution_count": 36,
     "metadata": {},
     "output_type": "execute_result"
    }
   ],
   "source": [
    "# pd.set_option('display.max_rows', None, 'display.max_columns', None)\n",
    "Zim_Batting = Batting.iloc[4:,:]\n",
    "Zim_Batting"
   ]
  },
  {
   "cell_type": "markdown",
   "metadata": {},
   "source": [
    "### Bangladesh Batting"
   ]
  },
  {
   "cell_type": "code",
   "execution_count": 37,
   "metadata": {},
   "outputs": [
    {
     "data": {
      "text/html": [
       "<div><div id=ee18e1f2-3b5a-4cc8-991c-bbb5ae9a92c0 style=\"display:none; background-color:#9D6CFF; color:white; width:200px; height:30px; padding-left:5px; border-radius:4px; flex-direction:row; justify-content:space-around; align-items:center;\" onmouseover=\"this.style.backgroundColor='#BA9BF8'\" onmouseout=\"this.style.backgroundColor='#9D6CFF'\" onclick=\"window.commands?.execute('create-mitosheet-from-dataframe-output');\">See Full Dataframe in Mito</div> <script> if (window.commands.hasCommand('create-mitosheet-from-dataframe-output')) document.getElementById('ee18e1f2-3b5a-4cc8-991c-bbb5ae9a92c0').style.display = 'flex' </script> <table border=\"1\" class=\"dataframe\">\n",
       "  <thead>\n",
       "    <tr style=\"text-align: right;\">\n",
       "      <th></th>\n",
       "      <th></th>\n",
       "      <th>Runs</th>\n",
       "      <th>Balls_played</th>\n",
       "      <th>Fours</th>\n",
       "      <th>Sixes</th>\n",
       "      <th>SR</th>\n",
       "      <th>runs_boundry</th>\n",
       "      <th>Percent_runs_in_boundries</th>\n",
       "    </tr>\n",
       "    <tr>\n",
       "      <th>Batting team</th>\n",
       "      <th>Batter</th>\n",
       "      <th></th>\n",
       "      <th></th>\n",
       "      <th></th>\n",
       "      <th></th>\n",
       "      <th></th>\n",
       "      <th></th>\n",
       "      <th></th>\n",
       "    </tr>\n",
       "  </thead>\n",
       "  <tbody>\n",
       "    <tr>\n",
       "      <th rowspan=\"4\" valign=\"top\">Bangladesh</th>\n",
       "      <th>Mahmudullah</th>\n",
       "      <td>15</td>\n",
       "      <td>12</td>\n",
       "      <td>1</td>\n",
       "      <td>0</td>\n",
       "      <td>125.00</td>\n",
       "      <td>4</td>\n",
       "      <td>26.67</td>\n",
       "    </tr>\n",
       "    <tr>\n",
       "      <th>Mohammad Naim</th>\n",
       "      <td>63</td>\n",
       "      <td>51</td>\n",
       "      <td>6</td>\n",
       "      <td>0</td>\n",
       "      <td>123.53</td>\n",
       "      <td>24</td>\n",
       "      <td>38.10</td>\n",
       "    </tr>\n",
       "    <tr>\n",
       "      <th>Nurul Hasan</th>\n",
       "      <td>16</td>\n",
       "      <td>8</td>\n",
       "      <td>1</td>\n",
       "      <td>1</td>\n",
       "      <td>200.00</td>\n",
       "      <td>10</td>\n",
       "      <td>62.50</td>\n",
       "    </tr>\n",
       "    <tr>\n",
       "      <th>Soumya Sarkar</th>\n",
       "      <td>50</td>\n",
       "      <td>45</td>\n",
       "      <td>4</td>\n",
       "      <td>2</td>\n",
       "      <td>111.11</td>\n",
       "      <td>28</td>\n",
       "      <td>56.00</td>\n",
       "    </tr>\n",
       "  </tbody>\n",
       "</table></div>"
      ],
      "text/plain": [
       "                            Runs  Balls_played  Fours  Sixes      SR  \\\n",
       "Batting team Batter                                                    \n",
       "Bangladesh   Mahmudullah      15            12      1      0  125.00   \n",
       "             Mohammad Naim    63            51      6      0  123.53   \n",
       "             Nurul Hasan      16             8      1      1  200.00   \n",
       "             Soumya Sarkar    50            45      4      2  111.11   \n",
       "\n",
       "                            runs_boundry  Percent_runs_in_boundries  \n",
       "Batting team Batter                                                  \n",
       "Bangladesh   Mahmudullah               4                      26.67  \n",
       "             Mohammad Naim            24                      38.10  \n",
       "             Nurul Hasan              10                      62.50  \n",
       "             Soumya Sarkar            28                      56.00  "
      ]
     },
     "execution_count": 37,
     "metadata": {},
     "output_type": "execute_result"
    }
   ],
   "source": [
    "Ban_Batting = Batting.iloc[:4,:]\n",
    "Ban_Batting"
   ]
  },
  {
   "cell_type": "markdown",
   "metadata": {},
   "source": [
    "### Que 4: Give a list of batters who have a strike rate of more than 120. [Min 20 Runs Scored]"
   ]
  },
  {
   "cell_type": "code",
   "execution_count": 38,
   "metadata": {},
   "outputs": [
    {
     "data": {
      "text/html": [
       "<div><div id=edcc5fd3-28bb-4ab2-af06-df698cb8734b style=\"display:none; background-color:#9D6CFF; color:white; width:200px; height:30px; padding-left:5px; border-radius:4px; flex-direction:row; justify-content:space-around; align-items:center;\" onmouseover=\"this.style.backgroundColor='#BA9BF8'\" onmouseout=\"this.style.backgroundColor='#9D6CFF'\" onclick=\"window.commands?.execute('create-mitosheet-from-dataframe-output');\">See Full Dataframe in Mito</div> <script> if (window.commands.hasCommand('create-mitosheet-from-dataframe-output')) document.getElementById('edcc5fd3-28bb-4ab2-af06-df698cb8734b').style.display = 'flex' </script> <table border=\"1\" class=\"dataframe\">\n",
       "  <thead>\n",
       "    <tr style=\"text-align: right;\">\n",
       "      <th></th>\n",
       "      <th></th>\n",
       "      <th>Runs</th>\n",
       "      <th>Balls_played</th>\n",
       "      <th>SR</th>\n",
       "    </tr>\n",
       "    <tr>\n",
       "      <th>Batting team</th>\n",
       "      <th>Batter</th>\n",
       "      <th></th>\n",
       "      <th></th>\n",
       "      <th></th>\n",
       "    </tr>\n",
       "  </thead>\n",
       "  <tbody>\n",
       "    <tr>\n",
       "      <th rowspan=\"2\" valign=\"top\">Zimbabwe</th>\n",
       "      <th>RW Chakabva</th>\n",
       "      <td>43</td>\n",
       "      <td>22</td>\n",
       "      <td>195.45</td>\n",
       "    </tr>\n",
       "    <tr>\n",
       "      <th>D Myers</th>\n",
       "      <td>35</td>\n",
       "      <td>22</td>\n",
       "      <td>159.09</td>\n",
       "    </tr>\n",
       "    <tr>\n",
       "      <th>Bangladesh</th>\n",
       "      <th>Mohammad Naim</th>\n",
       "      <td>63</td>\n",
       "      <td>51</td>\n",
       "      <td>123.53</td>\n",
       "    </tr>\n",
       "  </tbody>\n",
       "</table></div>"
      ],
      "text/plain": [
       "                            Runs  Balls_played      SR\n",
       "Batting team Batter                                   \n",
       "Zimbabwe     RW Chakabva      43            22  195.45\n",
       "             D Myers          35            22  159.09\n",
       "Bangladesh   Mohammad Naim    63            51  123.53"
      ]
     },
     "execution_count": 38,
     "metadata": {},
     "output_type": "execute_result"
    }
   ],
   "source": [
    "\n",
    "Sr_more_120 = Batting[(Batting.Runs >= 20) & (Batting.SR > 120)].sort_values(by=['SR'],ascending=False).iloc[:,[0,1,4]]\n",
    "Sr_more_120"
   ]
  },
  {
   "cell_type": "markdown",
   "metadata": {},
   "source": [
    "### Que 5: How many batters have scored more than 60% of total runs in Boundaries?"
   ]
  },
  {
   "cell_type": "code",
   "execution_count": 39,
   "metadata": {},
   "outputs": [
    {
     "data": {
      "text/html": [
       "<div><div id=1b8b90e2-93bc-4940-848f-e21c5841d270 style=\"display:none; background-color:#9D6CFF; color:white; width:200px; height:30px; padding-left:5px; border-radius:4px; flex-direction:row; justify-content:space-around; align-items:center;\" onmouseover=\"this.style.backgroundColor='#BA9BF8'\" onmouseout=\"this.style.backgroundColor='#9D6CFF'\" onclick=\"window.commands?.execute('create-mitosheet-from-dataframe-output');\">See Full Dataframe in Mito</div> <script> if (window.commands.hasCommand('create-mitosheet-from-dataframe-output')) document.getElementById('1b8b90e2-93bc-4940-848f-e21c5841d270').style.display = 'flex' </script> <table border=\"1\" class=\"dataframe\">\n",
       "  <thead>\n",
       "    <tr style=\"text-align: right;\">\n",
       "      <th></th>\n",
       "      <th></th>\n",
       "      <th>Runs</th>\n",
       "      <th>runs_boundry</th>\n",
       "      <th>Percent_runs_in_boundries</th>\n",
       "    </tr>\n",
       "    <tr>\n",
       "      <th>Batting team</th>\n",
       "      <th>Batter</th>\n",
       "      <th></th>\n",
       "      <th></th>\n",
       "      <th></th>\n",
       "    </tr>\n",
       "  </thead>\n",
       "  <tbody>\n",
       "    <tr>\n",
       "      <th rowspan=\"4\" valign=\"top\">Zimbabwe</th>\n",
       "      <th>B Muzarabani</th>\n",
       "      <td>8</td>\n",
       "      <td>8</td>\n",
       "      <td>100.00</td>\n",
       "    </tr>\n",
       "    <tr>\n",
       "      <th>T Marumani</th>\n",
       "      <td>7</td>\n",
       "      <td>6</td>\n",
       "      <td>85.71</td>\n",
       "    </tr>\n",
       "    <tr>\n",
       "      <th>RW Chakabva</th>\n",
       "      <td>43</td>\n",
       "      <td>32</td>\n",
       "      <td>74.42</td>\n",
       "    </tr>\n",
       "    <tr>\n",
       "      <th>TK Musakanda</th>\n",
       "      <td>6</td>\n",
       "      <td>4</td>\n",
       "      <td>66.67</td>\n",
       "    </tr>\n",
       "    <tr>\n",
       "      <th>Bangladesh</th>\n",
       "      <th>Nurul Hasan</th>\n",
       "      <td>16</td>\n",
       "      <td>10</td>\n",
       "      <td>62.50</td>\n",
       "    </tr>\n",
       "  </tbody>\n",
       "</table></div>"
      ],
      "text/plain": [
       "                           Runs  runs_boundry  Percent_runs_in_boundries\n",
       "Batting team Batter                                                     \n",
       "Zimbabwe     B Muzarabani     8             8                     100.00\n",
       "             T Marumani       7             6                      85.71\n",
       "             RW Chakabva     43            32                      74.42\n",
       "             TK Musakanda     6             4                      66.67\n",
       "Bangladesh   Nurul Hasan     16            10                      62.50"
      ]
     },
     "metadata": {},
     "output_type": "display_data"
    },
    {
     "name": "stdout",
     "output_type": "stream",
     "text": [
      "\n",
      "batters have scored more than 60% of total runs in Boundaries : 5\n"
     ]
    }
   ],
   "source": [
    "\n",
    "percent_more_60 = Batting[(Batting.Percent_runs_in_boundries > 60)]\n",
    "perc = percent_more_60.sort_values(by='Percent_runs_in_boundries',ascending=False).iloc[:,[0,5,6]]\n",
    "display(perc)\n",
    "print()\n",
    "print(\"batters have scored more than 60% of total runs in Boundaries :\",len(perc))"
   ]
  },
  {
   "cell_type": "markdown",
   "metadata": {},
   "source": [
    "### Que 6: How many batters got out before 10 runs?"
   ]
  },
  {
   "cell_type": "code",
   "execution_count": 40,
   "metadata": {},
   "outputs": [
    {
     "data": {
      "text/plain": [
       "Batting team  Batter       \n",
       "Bangladesh    Mahmudullah      0\n",
       "              Mohammad Naim    1\n",
       "              Nurul Hasan      0\n",
       "              Soumya Sarkar    1\n",
       "Zimbabwe      B Muzarabani     1\n",
       "              D Myers          1\n",
       "              LM Jongwe        1\n",
       "              R Ngarava        1\n",
       "              RP Burl          1\n",
       "              RW Chakabva      1\n",
       "              Sikandar Raza    1\n",
       "              T Marumani       1\n",
       "              TK Musakanda     1\n",
       "              W Madhevere      1\n",
       "              WP Masakadza     0\n",
       "Name: out_count, dtype: int64"
      ]
     },
     "execution_count": 40,
     "metadata": {},
     "output_type": "execute_result"
    }
   ],
   "source": [
    "# creating var for batter is he got out or not\n",
    "\n",
    "df['out_count'] = df.wicket_type.apply(lambda x: 1 if x !='' else 0)\n",
    "out_count = df.groupby(['Batting team', 'Batter'])['out_count'].sum()\n",
    "out_count"
   ]
  },
  {
   "cell_type": "code",
   "execution_count": 41,
   "metadata": {},
   "outputs": [
    {
     "data": {
      "text/plain": [
       "Batting team  Batter       \n",
       "Bangladesh    Mahmudullah      15\n",
       "              Mohammad Naim    63\n",
       "              Nurul Hasan      16\n",
       "              Soumya Sarkar    50\n",
       "Zimbabwe      B Muzarabani      8\n",
       "              D Myers          35\n",
       "              LM Jongwe        18\n",
       "              R Ngarava         0\n",
       "              RP Burl           4\n",
       "              RW Chakabva      43\n",
       "              Sikandar Raza     0\n",
       "              T Marumani        7\n",
       "              TK Musakanda      6\n",
       "              W Madhevere      23\n",
       "              WP Masakadza      4\n",
       "Name: Runs, dtype: int64"
      ]
     },
     "execution_count": 41,
     "metadata": {},
     "output_type": "execute_result"
    }
   ],
   "source": [
    "# Run scorecard\n",
    "Runs = Batting.Runs\n",
    "Runs"
   ]
  },
  {
   "cell_type": "code",
   "execution_count": 42,
   "metadata": {},
   "outputs": [
    {
     "data": {
      "text/html": [
       "<div><div id=9df9a038-b7ac-42ed-bf15-8c81c5b9f99c style=\"display:none; background-color:#9D6CFF; color:white; width:200px; height:30px; padding-left:5px; border-radius:4px; flex-direction:row; justify-content:space-around; align-items:center;\" onmouseover=\"this.style.backgroundColor='#BA9BF8'\" onmouseout=\"this.style.backgroundColor='#9D6CFF'\" onclick=\"window.commands?.execute('create-mitosheet-from-dataframe-output');\">See Full Dataframe in Mito</div> <script> if (window.commands.hasCommand('create-mitosheet-from-dataframe-output')) document.getElementById('9df9a038-b7ac-42ed-bf15-8c81c5b9f99c').style.display = 'flex' </script> <table border=\"1\" class=\"dataframe\">\n",
       "  <thead>\n",
       "    <tr style=\"text-align: right;\">\n",
       "      <th></th>\n",
       "      <th></th>\n",
       "      <th>Runs</th>\n",
       "    </tr>\n",
       "    <tr>\n",
       "      <th>Batting team</th>\n",
       "      <th>Batter</th>\n",
       "      <th></th>\n",
       "    </tr>\n",
       "  </thead>\n",
       "  <tbody>\n",
       "    <tr>\n",
       "      <th rowspan=\"6\" valign=\"top\">Zimbabwe</th>\n",
       "      <th>B Muzarabani</th>\n",
       "      <td>8</td>\n",
       "    </tr>\n",
       "    <tr>\n",
       "      <th>R Ngarava</th>\n",
       "      <td>0</td>\n",
       "    </tr>\n",
       "    <tr>\n",
       "      <th>RP Burl</th>\n",
       "      <td>4</td>\n",
       "    </tr>\n",
       "    <tr>\n",
       "      <th>Sikandar Raza</th>\n",
       "      <td>0</td>\n",
       "    </tr>\n",
       "    <tr>\n",
       "      <th>T Marumani</th>\n",
       "      <td>7</td>\n",
       "    </tr>\n",
       "    <tr>\n",
       "      <th>TK Musakanda</th>\n",
       "      <td>6</td>\n",
       "    </tr>\n",
       "  </tbody>\n",
       "</table></div>"
      ],
      "text/plain": [
       "                            Runs\n",
       "Batting team Batter             \n",
       "Zimbabwe     B Muzarabani      8\n",
       "             R Ngarava         0\n",
       "             RP Burl           4\n",
       "             Sikandar Raza     0\n",
       "             T Marumani        7\n",
       "             TK Musakanda      6"
      ]
     },
     "metadata": {},
     "output_type": "display_data"
    },
    {
     "name": "stdout",
     "output_type": "stream",
     "text": [
      "\n",
      "Batters got out before 10 runs:  6\n"
     ]
    }
   ],
   "source": [
    "\n",
    "# Filtering batters got out before scoring 10 runs\n",
    "out = pd.concat([Runs,out_count], axis=1)\n",
    "out_1 = out[(out.Runs <10) & (out.out_count==1)].iloc[:,[0]]\n",
    "display(out_1)\n",
    "print()\n",
    "print(\"Batters got out before 10 runs: \",len(out_1))"
   ]
  },
  {
   "cell_type": "markdown",
   "metadata": {},
   "source": [
    "### Que 7: Which team has conceded more runs as Extras?"
   ]
  },
  {
   "cell_type": "code",
   "execution_count": 43,
   "metadata": {},
   "outputs": [
    {
     "data": {
      "text/html": [
       "<div><div id=276cd071-be37-4f7e-93fd-f1355b95b342 style=\"display:none; background-color:#9D6CFF; color:white; width:200px; height:30px; padding-left:5px; border-radius:4px; flex-direction:row; justify-content:space-around; align-items:center;\" onmouseover=\"this.style.backgroundColor='#BA9BF8'\" onmouseout=\"this.style.backgroundColor='#9D6CFF'\" onclick=\"window.commands?.execute('create-mitosheet-from-dataframe-output');\">See Full Dataframe in Mito</div> <script> if (window.commands.hasCommand('create-mitosheet-from-dataframe-output')) document.getElementById('276cd071-be37-4f7e-93fd-f1355b95b342').style.display = 'flex' </script> <table border=\"1\" class=\"dataframe\">\n",
       "  <thead>\n",
       "    <tr style=\"text-align: right;\">\n",
       "      <th></th>\n",
       "      <th>extras</th>\n",
       "    </tr>\n",
       "    <tr>\n",
       "      <th>Bowling team</th>\n",
       "      <th></th>\n",
       "    </tr>\n",
       "  </thead>\n",
       "  <tbody>\n",
       "    <tr>\n",
       "      <th>Zimbabwe</th>\n",
       "      <td>9</td>\n",
       "    </tr>\n",
       "  </tbody>\n",
       "</table></div>"
      ],
      "text/plain": [
       "              extras\n",
       "Bowling team        \n",
       "Zimbabwe           9"
      ]
     },
     "execution_count": 43,
     "metadata": {},
     "output_type": "execute_result"
    }
   ],
   "source": [
    "# Extras \n",
    "df_s = df.groupby('Bowling team')['extras'].sum()\n",
    "s_df = pd.DataFrame(df_s)\n",
    "s_df[s_df.extras == s_df.extras.max()]"
   ]
  },
  {
   "cell_type": "markdown",
   "metadata": {},
   "source": [
    "### Que 8: Which Team has scored more runs in Power play?"
   ]
  },
  {
   "cell_type": "code",
   "execution_count": 44,
   "metadata": {},
   "outputs": [
    {
     "data": {
      "text/html": [
       "<div><div id=3ddb5e10-9198-4033-9f95-cc576e64a156 style=\"display:none; background-color:#9D6CFF; color:white; width:200px; height:30px; padding-left:5px; border-radius:4px; flex-direction:row; justify-content:space-around; align-items:center;\" onmouseover=\"this.style.backgroundColor='#BA9BF8'\" onmouseout=\"this.style.backgroundColor='#9D6CFF'\" onclick=\"window.commands?.execute('create-mitosheet-from-dataframe-output');\">See Full Dataframe in Mito</div> <script> if (window.commands.hasCommand('create-mitosheet-from-dataframe-output')) document.getElementById('3ddb5e10-9198-4033-9f95-cc576e64a156').style.display = 'flex' </script> <table border=\"1\" class=\"dataframe\">\n",
       "  <thead>\n",
       "    <tr style=\"text-align: right;\">\n",
       "      <th></th>\n",
       "      <th>team_runs</th>\n",
       "    </tr>\n",
       "    <tr>\n",
       "      <th>Batting team</th>\n",
       "      <th></th>\n",
       "    </tr>\n",
       "  </thead>\n",
       "  <tbody>\n",
       "    <tr>\n",
       "      <th>Zimbabwe</th>\n",
       "      <td>50</td>\n",
       "    </tr>\n",
       "  </tbody>\n",
       "</table></div>"
      ],
      "text/plain": [
       "              team_runs\n",
       "Batting team           \n",
       "Zimbabwe             50"
      ]
     },
     "execution_count": 44,
     "metadata": {},
     "output_type": "execute_result"
    }
   ],
   "source": [
    "# Runs in Power-lay\n",
    "df['team_runs'] = df['runs_off_bat'] + df['extras']\n",
    "team_run = df[df.ball<6].groupby(['Batting team'])['team_runs'].sum()\n",
    "team_run\n",
    "Runs_Scored = pd.DataFrame(team_run)\n",
    "Runs_Scored[Runs_Scored.team_runs == Runs_Scored.team_runs.max()]"
   ]
  },
  {
   "cell_type": "markdown",
   "metadata": {},
   "source": [
    "### Que 9: Which Team as Scored more Boundaries [4s+ 6s] in Death Overs?"
   ]
  },
  {
   "cell_type": "code",
   "execution_count": 45,
   "metadata": {},
   "outputs": [
    {
     "data": {
      "text/html": [
       "<div><div id=7e2717db-8737-40b0-bcec-f52795e4b4aa style=\"display:none; background-color:#9D6CFF; color:white; width:200px; height:30px; padding-left:5px; border-radius:4px; flex-direction:row; justify-content:space-around; align-items:center;\" onmouseover=\"this.style.backgroundColor='#BA9BF8'\" onmouseout=\"this.style.backgroundColor='#9D6CFF'\" onclick=\"window.commands?.execute('create-mitosheet-from-dataframe-output');\">See Full Dataframe in Mito</div> <script> if (window.commands.hasCommand('create-mitosheet-from-dataframe-output')) document.getElementById('7e2717db-8737-40b0-bcec-f52795e4b4aa').style.display = 'flex' </script> <table border=\"1\" class=\"dataframe\">\n",
       "  <thead>\n",
       "    <tr style=\"text-align: right;\">\n",
       "      <th></th>\n",
       "      <th>Fours_t</th>\n",
       "      <th>Sixes-t</th>\n",
       "      <th>total_Bdr</th>\n",
       "    </tr>\n",
       "    <tr>\n",
       "      <th>Batting team</th>\n",
       "      <th></th>\n",
       "      <th></th>\n",
       "      <th></th>\n",
       "    </tr>\n",
       "  </thead>\n",
       "  <tbody>\n",
       "    <tr>\n",
       "      <th>Zimbabwe</th>\n",
       "      <td>4</td>\n",
       "      <td>0</td>\n",
       "      <td>4</td>\n",
       "    </tr>\n",
       "    <tr>\n",
       "      <th>Bangladesh</th>\n",
       "      <td>2</td>\n",
       "      <td>1</td>\n",
       "      <td>3</td>\n",
       "    </tr>\n",
       "  </tbody>\n",
       "</table></div>"
      ],
      "text/plain": [
       "              Fours_t  Sixes-t  total_Bdr\n",
       "Batting team                             \n",
       "Zimbabwe            4        0          4\n",
       "Bangladesh          2        1          3"
      ]
     },
     "execution_count": 45,
     "metadata": {},
     "output_type": "execute_result"
    }
   ],
   "source": [
    "# Considering overs from 16-20 as death overs\n",
    "df1 = df[df.ball>=15]\n",
    "\n",
    "# Teamwise Fours in death overs \n",
    "df1['4_score'] = df1['runs_off_bat'].apply(lambda x: 1 if x == 4 else 0)\n",
    "Fours_t = df1.groupby(['Batting team'],sort = False)['4_score'].sum().rename('Fours_t')\n",
    "\n",
    "# Teamwise sixes in death overs \n",
    "df1['6_score'] = df1['runs_off_bat'].apply(lambda x: 1 if x == 6 else 0)\n",
    "Sixes_t = df1.groupby(['Batting team'],sort = False)['6_score'].sum().rename('Sixes-t')\n",
    "\n",
    "# Total boundries scored in death overs\n",
    "total_f_s = (Fours_t + Sixes_t).rename('total_Bdr')\n",
    "total_f_s\n",
    "\n",
    "death_ovr = pd.concat([Fours_t,Sixes_t,total_f_s],axis=1)\n",
    "death_ovr"
   ]
  },
  {
   "cell_type": "code",
   "execution_count": 46,
   "metadata": {},
   "outputs": [
    {
     "data": {
      "text/html": [
       "<div><div id=fdbf97dd-9897-412a-9bf9-4d22061fbfaa style=\"display:none; background-color:#9D6CFF; color:white; width:200px; height:30px; padding-left:5px; border-radius:4px; flex-direction:row; justify-content:space-around; align-items:center;\" onmouseover=\"this.style.backgroundColor='#BA9BF8'\" onmouseout=\"this.style.backgroundColor='#9D6CFF'\" onclick=\"window.commands?.execute('create-mitosheet-from-dataframe-output');\">See Full Dataframe in Mito</div> <script> if (window.commands.hasCommand('create-mitosheet-from-dataframe-output')) document.getElementById('fdbf97dd-9897-412a-9bf9-4d22061fbfaa').style.display = 'flex' </script> <table border=\"1\" class=\"dataframe\">\n",
       "  <thead>\n",
       "    <tr style=\"text-align: right;\">\n",
       "      <th></th>\n",
       "      <th>Fours_t</th>\n",
       "      <th>Sixes-t</th>\n",
       "      <th>total_Bdr</th>\n",
       "    </tr>\n",
       "    <tr>\n",
       "      <th>Batting team</th>\n",
       "      <th></th>\n",
       "      <th></th>\n",
       "      <th></th>\n",
       "    </tr>\n",
       "  </thead>\n",
       "  <tbody>\n",
       "    <tr>\n",
       "      <th>Zimbabwe</th>\n",
       "      <td>4</td>\n",
       "      <td>0</td>\n",
       "      <td>4</td>\n",
       "    </tr>\n",
       "  </tbody>\n",
       "</table></div>"
      ],
      "text/plain": [
       "              Fours_t  Sixes-t  total_Bdr\n",
       "Batting team                             \n",
       "Zimbabwe            4        0          4"
      ]
     },
     "execution_count": 46,
     "metadata": {},
     "output_type": "execute_result"
    }
   ],
   "source": [
    "# Fetching team scored more boundries\n",
    "death_ovr[death_ovr.total_Bdr == death_ovr.total_Bdr.max()]"
   ]
  },
  {
   "cell_type": "markdown",
   "metadata": {},
   "source": [
    "### ------------------------------------ _/\\_ Thank You For Visiting /\\ ------------------------------------"
   ]
  }
 ],
 "metadata": {
  "kernelspec": {
   "display_name": "Python 3",
   "language": "python",
   "name": "python3"
  },
  "language_info": {
   "codemirror_mode": {
    "name": "ipython",
    "version": 3
   },
   "file_extension": ".py",
   "mimetype": "text/x-python",
   "name": "python",
   "nbconvert_exporter": "python",
   "pygments_lexer": "ipython3",
   "version": "3.8.5"
  }
 },
 "nbformat": 4,
 "nbformat_minor": 4
}
